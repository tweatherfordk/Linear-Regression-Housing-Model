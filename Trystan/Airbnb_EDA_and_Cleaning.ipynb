{
 "cells": [
  {
   "cell_type": "markdown",
   "metadata": {},
   "source": [
    "# Airbnb EDA & Cleaning "
   ]
  },
  {
   "cell_type": "code",
   "execution_count": 1,
   "metadata": {},
   "outputs": [],
   "source": [
    "import itertools\n",
    "import numpy as np\n",
    "import pandas as pd \n",
    "from numbers import Number\n",
    "from scipy import stats\n",
    "import matplotlib.pyplot as plt\n",
    "import seaborn as sns\n",
    "from sklearn.preprocessing import OrdinalEncoder\n",
    "%matplotlib inline"
   ]
  },
  {
   "cell_type": "code",
   "execution_count": 2,
   "metadata": {
    "scrolled": true
   },
   "outputs": [
    {
     "data": {
      "text/plain": [
       "Index(['id', 'name', 'host_id', 'host_name', 'neighbourhood_group',\n",
       "       'neighbourhood', 'latitude', 'longitude', 'room_type', 'price',\n",
       "       'minimum_nights', 'number_of_reviews', 'last_review',\n",
       "       'reviews_per_month', 'calculated_host_listings_count',\n",
       "       'availability_365', 'number_of_reviews_ltm', 'license'],\n",
       "      dtype='object')"
      ]
     },
     "execution_count": 2,
     "metadata": {},
     "output_type": "execute_result"
    }
   ],
   "source": [
    "df = pd.read_csv(\"/Users/weatherford/Documents/Flatiron/Phase_2_Housing_Project/data/airbnb_listings_data.csv\")\n",
    "df.columns"
   ]
  },
  {
   "cell_type": "code",
   "execution_count": 3,
   "metadata": {},
   "outputs": [
    {
     "data": {
      "text/html": [
       "<div>\n",
       "<style scoped>\n",
       "    .dataframe tbody tr th:only-of-type {\n",
       "        vertical-align: middle;\n",
       "    }\n",
       "\n",
       "    .dataframe tbody tr th {\n",
       "        vertical-align: top;\n",
       "    }\n",
       "\n",
       "    .dataframe thead th {\n",
       "        text-align: right;\n",
       "    }\n",
       "</style>\n",
       "<table border=\"1\" class=\"dataframe\">\n",
       "  <thead>\n",
       "    <tr style=\"text-align: right;\">\n",
       "      <th></th>\n",
       "      <th>id</th>\n",
       "      <th>name</th>\n",
       "      <th>host_id</th>\n",
       "      <th>host_name</th>\n",
       "      <th>neighbourhood_group</th>\n",
       "      <th>neighbourhood</th>\n",
       "      <th>latitude</th>\n",
       "      <th>longitude</th>\n",
       "      <th>room_type</th>\n",
       "      <th>price</th>\n",
       "      <th>minimum_nights</th>\n",
       "      <th>number_of_reviews</th>\n",
       "      <th>last_review</th>\n",
       "      <th>reviews_per_month</th>\n",
       "      <th>calculated_host_listings_count</th>\n",
       "      <th>availability_365</th>\n",
       "      <th>number_of_reviews_ltm</th>\n",
       "      <th>license</th>\n",
       "    </tr>\n",
       "  </thead>\n",
       "  <tbody>\n",
       "    <tr>\n",
       "      <th>0</th>\n",
       "      <td>580365544480383496</td>\n",
       "      <td>Adorable fireplace studio minutes from airport</td>\n",
       "      <td>3436665</td>\n",
       "      <td>Hanna</td>\n",
       "      <td>Delridge</td>\n",
       "      <td>Highland Park</td>\n",
       "      <td>47.51075</td>\n",
       "      <td>-122.34122</td>\n",
       "      <td>Entire home/apt</td>\n",
       "      <td>149</td>\n",
       "      <td>2</td>\n",
       "      <td>5</td>\n",
       "      <td>2022-05-10</td>\n",
       "      <td>1.70</td>\n",
       "      <td>1</td>\n",
       "      <td>28</td>\n",
       "      <td>5</td>\n",
       "      <td>NaN</td>\n",
       "    </tr>\n",
       "    <tr>\n",
       "      <th>1</th>\n",
       "      <td>5164039</td>\n",
       "      <td>NW Luxury and Private Beach! Near Airport</td>\n",
       "      <td>26710300</td>\n",
       "      <td>Jack</td>\n",
       "      <td>West Seattle</td>\n",
       "      <td>Arbor Heights</td>\n",
       "      <td>47.49770</td>\n",
       "      <td>-122.37003</td>\n",
       "      <td>Entire home/apt</td>\n",
       "      <td>98</td>\n",
       "      <td>3</td>\n",
       "      <td>11</td>\n",
       "      <td>2018-08-11</td>\n",
       "      <td>0.21</td>\n",
       "      <td>1</td>\n",
       "      <td>161</td>\n",
       "      <td>0</td>\n",
       "      <td>NaN</td>\n",
       "    </tr>\n",
       "    <tr>\n",
       "      <th>2</th>\n",
       "      <td>33448826</td>\n",
       "      <td>4 BR/四房间. 11min to  Sea-Tac Airport近机场. Englis...</td>\n",
       "      <td>65554077</td>\n",
       "      <td>Luo(荦)</td>\n",
       "      <td>Delridge</td>\n",
       "      <td>Highland Park</td>\n",
       "      <td>47.50452</td>\n",
       "      <td>-122.34009</td>\n",
       "      <td>Entire home/apt</td>\n",
       "      <td>335</td>\n",
       "      <td>2</td>\n",
       "      <td>30</td>\n",
       "      <td>2021-10-24</td>\n",
       "      <td>0.78</td>\n",
       "      <td>1</td>\n",
       "      <td>293</td>\n",
       "      <td>10</td>\n",
       "      <td>NaN</td>\n",
       "    </tr>\n",
       "    <tr>\n",
       "      <th>3</th>\n",
       "      <td>6606</td>\n",
       "      <td>Fab, private seattle urban cottage!</td>\n",
       "      <td>14942</td>\n",
       "      <td>Joyce</td>\n",
       "      <td>Other neighborhoods</td>\n",
       "      <td>Wallingford</td>\n",
       "      <td>47.65444</td>\n",
       "      <td>-122.33629</td>\n",
       "      <td>Entire home/apt</td>\n",
       "      <td>99</td>\n",
       "      <td>30</td>\n",
       "      <td>157</td>\n",
       "      <td>2021-09-14</td>\n",
       "      <td>1.00</td>\n",
       "      <td>2</td>\n",
       "      <td>84</td>\n",
       "      <td>6</td>\n",
       "      <td>str-opli-19-002622</td>\n",
       "    </tr>\n",
       "    <tr>\n",
       "      <th>4</th>\n",
       "      <td>9419</td>\n",
       "      <td>Glorious sun room w/ memory foambed</td>\n",
       "      <td>30559</td>\n",
       "      <td>Angielena</td>\n",
       "      <td>Other neighborhoods</td>\n",
       "      <td>Georgetown</td>\n",
       "      <td>47.55017</td>\n",
       "      <td>-122.31937</td>\n",
       "      <td>Private room</td>\n",
       "      <td>80</td>\n",
       "      <td>2</td>\n",
       "      <td>156</td>\n",
       "      <td>2022-04-03</td>\n",
       "      <td>1.08</td>\n",
       "      <td>8</td>\n",
       "      <td>331</td>\n",
       "      <td>8</td>\n",
       "      <td>STR-OPLI-19-003039</td>\n",
       "    </tr>\n",
       "  </tbody>\n",
       "</table>\n",
       "</div>"
      ],
      "text/plain": [
       "                   id                                               name  \\\n",
       "0  580365544480383496     Adorable fireplace studio minutes from airport   \n",
       "1             5164039          NW Luxury and Private Beach! Near Airport   \n",
       "2            33448826  4 BR/四房间. 11min to  Sea-Tac Airport近机场. Englis...   \n",
       "3                6606                Fab, private seattle urban cottage!   \n",
       "4                9419                Glorious sun room w/ memory foambed   \n",
       "\n",
       "    host_id  host_name  neighbourhood_group  neighbourhood  latitude  \\\n",
       "0   3436665      Hanna             Delridge  Highland Park  47.51075   \n",
       "1  26710300       Jack         West Seattle  Arbor Heights  47.49770   \n",
       "2  65554077     Luo(荦)             Delridge  Highland Park  47.50452   \n",
       "3     14942      Joyce  Other neighborhoods    Wallingford  47.65444   \n",
       "4     30559  Angielena  Other neighborhoods     Georgetown  47.55017   \n",
       "\n",
       "   longitude        room_type  price  minimum_nights  number_of_reviews  \\\n",
       "0 -122.34122  Entire home/apt    149               2                  5   \n",
       "1 -122.37003  Entire home/apt     98               3                 11   \n",
       "2 -122.34009  Entire home/apt    335               2                 30   \n",
       "3 -122.33629  Entire home/apt     99              30                157   \n",
       "4 -122.31937     Private room     80               2                156   \n",
       "\n",
       "  last_review  reviews_per_month  calculated_host_listings_count  \\\n",
       "0  2022-05-10               1.70                               1   \n",
       "1  2018-08-11               0.21                               1   \n",
       "2  2021-10-24               0.78                               1   \n",
       "3  2021-09-14               1.00                               2   \n",
       "4  2022-04-03               1.08                               8   \n",
       "\n",
       "   availability_365  number_of_reviews_ltm             license  \n",
       "0                28                      5                 NaN  \n",
       "1               161                      0                 NaN  \n",
       "2               293                     10                 NaN  \n",
       "3                84                      6  str-opli-19-002622  \n",
       "4               331                      8  STR-OPLI-19-003039  "
      ]
     },
     "execution_count": 3,
     "metadata": {},
     "output_type": "execute_result"
    }
   ],
   "source": [
    "df.head()"
   ]
  },
  {
   "cell_type": "code",
   "execution_count": 4,
   "metadata": {},
   "outputs": [],
   "source": [
    "df1 = df.drop(columns=['host_id', 'name','host_name','minimum_nights', 'number_of_reviews', 'last_review',\n",
    "       'reviews_per_month', 'calculated_host_listings_count',\n",
    "       'availability_365', 'number_of_reviews_ltm', 'license'])"
   ]
  },
  {
   "cell_type": "code",
   "execution_count": 5,
   "metadata": {},
   "outputs": [
    {
     "data": {
      "text/plain": [
       "Index(['id', 'neighbourhood_group', 'neighbourhood', 'latitude', 'longitude',\n",
       "       'room_type', 'price'],\n",
       "      dtype='object')"
      ]
     },
     "execution_count": 5,
     "metadata": {},
     "output_type": "execute_result"
    }
   ],
   "source": [
    "df1.columns"
   ]
  },
  {
   "cell_type": "code",
   "execution_count": 6,
   "metadata": {},
   "outputs": [
    {
     "name": "stdout",
     "output_type": "stream",
     "text": [
      "<class 'pandas.core.frame.DataFrame'>\n",
      "RangeIndex: 5355 entries, 0 to 5354\n",
      "Data columns (total 7 columns):\n",
      " #   Column               Non-Null Count  Dtype  \n",
      "---  ------               --------------  -----  \n",
      " 0   id                   5355 non-null   int64  \n",
      " 1   neighbourhood_group  5355 non-null   object \n",
      " 2   neighbourhood        5355 non-null   object \n",
      " 3   latitude             5355 non-null   float64\n",
      " 4   longitude            5355 non-null   float64\n",
      " 5   room_type            5355 non-null   object \n",
      " 6   price                5355 non-null   int64  \n",
      "dtypes: float64(2), int64(2), object(3)\n",
      "memory usage: 293.0+ KB\n"
     ]
    }
   ],
   "source": [
    "df1.info()"
   ]
  },
  {
   "cell_type": "code",
   "execution_count": 7,
   "metadata": {},
   "outputs": [
    {
     "data": {
      "text/plain": [
       "array(['Highland Park', 'Arbor Heights', 'Wallingford', 'Georgetown',\n",
       "       'Fairmount Park', 'Whittier Heights', 'Loyal Heights', 'Eastlake',\n",
       "       'Alki', 'South Delridge', 'Fremont', 'Atlantic', 'Broadview',\n",
       "       'Green Lake', 'North Queen Anne', 'Portage Bay',\n",
       "       'Lower Queen Anne', 'Phinney Ridge', 'Harrison/Denny-Blaine',\n",
       "       'Crown Hill', 'Maple Leaf', 'East Queen Anne', 'Lawton Park',\n",
       "       'Pioneer Square', 'Mid-Beacon Hill', 'West Queen Anne',\n",
       "       'North Beacon Hill', 'Mount Baker', 'Belltown', 'First Hill',\n",
       "       'Ravenna', 'Broadway', 'Stevens', 'West Woodland', 'North Admiral',\n",
       "       'Greenwood', 'International District', 'Haller Lake',\n",
       "       'Madison Park', 'Fauntleroy', 'Wedgwood', 'Cedar Park',\n",
       "       'University District', 'Columbia City', 'Madrona', 'Mann',\n",
       "       'Matthews Beach', 'Genesee', 'Central Business District', 'Minor',\n",
       "       'Leschi', 'Briarcliff', 'Sunset Hill', 'North Delridge', 'Bryant',\n",
       "       'Adams', 'North Beach/Blue Ridge', 'Seward Park', 'Pike-Market',\n",
       "       'High Point', 'Yesler Terrace', 'Bitter Lake', 'Brighton',\n",
       "       'Interbay', 'View Ridge', 'Windermere', 'Harbor Island', 'Dunlap',\n",
       "       'Rainier Beach', 'Seaview', 'Victory Heights',\n",
       "       'Southeast Magnolia', 'Olympic Hills', 'Roosevelt', 'Laurelhurst',\n",
       "       'Gatewood', 'North College Park', 'Riverview', 'Meadowbrook',\n",
       "       'Pinehurst', 'Montlake', 'Rainier View', 'South Beacon Hill',\n",
       "       'Westlake', 'Industrial District', 'South Park',\n",
       "       'South Lake Union', 'Roxhill', 'Holly Park', 'Sand Point'],\n",
       "      dtype=object)"
      ]
     },
     "execution_count": 7,
     "metadata": {},
     "output_type": "execute_result"
    }
   ],
   "source": [
    "df1['neighbourhood'].unique()"
   ]
  },
  {
   "cell_type": "code",
   "execution_count": 8,
   "metadata": {
    "scrolled": true
   },
   "outputs": [
    {
     "data": {
      "text/html": [
       "<div>\n",
       "<style scoped>\n",
       "    .dataframe tbody tr th:only-of-type {\n",
       "        vertical-align: middle;\n",
       "    }\n",
       "\n",
       "    .dataframe tbody tr th {\n",
       "        vertical-align: top;\n",
       "    }\n",
       "\n",
       "    .dataframe thead th {\n",
       "        text-align: right;\n",
       "    }\n",
       "</style>\n",
       "<table border=\"1\" class=\"dataframe\">\n",
       "  <thead>\n",
       "    <tr style=\"text-align: right;\">\n",
       "      <th></th>\n",
       "      <th>id</th>\n",
       "      <th>neighbourhood_group</th>\n",
       "      <th>neighbourhood</th>\n",
       "      <th>latitude</th>\n",
       "      <th>longitude</th>\n",
       "      <th>room_type</th>\n",
       "      <th>price</th>\n",
       "    </tr>\n",
       "  </thead>\n",
       "  <tbody>\n",
       "    <tr>\n",
       "      <th>0</th>\n",
       "      <td>580365544480383496</td>\n",
       "      <td>Delridge</td>\n",
       "      <td>Highland Park</td>\n",
       "      <td>47.51075</td>\n",
       "      <td>-122.34122</td>\n",
       "      <td>Entire home/apt</td>\n",
       "      <td>149</td>\n",
       "    </tr>\n",
       "    <tr>\n",
       "      <th>1</th>\n",
       "      <td>5164039</td>\n",
       "      <td>West Seattle</td>\n",
       "      <td>Arbor Heights</td>\n",
       "      <td>47.49770</td>\n",
       "      <td>-122.37003</td>\n",
       "      <td>Entire home/apt</td>\n",
       "      <td>98</td>\n",
       "    </tr>\n",
       "    <tr>\n",
       "      <th>2</th>\n",
       "      <td>33448826</td>\n",
       "      <td>Delridge</td>\n",
       "      <td>Highland Park</td>\n",
       "      <td>47.50452</td>\n",
       "      <td>-122.34009</td>\n",
       "      <td>Entire home/apt</td>\n",
       "      <td>335</td>\n",
       "    </tr>\n",
       "    <tr>\n",
       "      <th>3</th>\n",
       "      <td>6606</td>\n",
       "      <td>Other neighborhoods</td>\n",
       "      <td>Wallingford</td>\n",
       "      <td>47.65444</td>\n",
       "      <td>-122.33629</td>\n",
       "      <td>Entire home/apt</td>\n",
       "      <td>99</td>\n",
       "    </tr>\n",
       "    <tr>\n",
       "      <th>4</th>\n",
       "      <td>9419</td>\n",
       "      <td>Other neighborhoods</td>\n",
       "      <td>Georgetown</td>\n",
       "      <td>47.55017</td>\n",
       "      <td>-122.31937</td>\n",
       "      <td>Private room</td>\n",
       "      <td>80</td>\n",
       "    </tr>\n",
       "    <tr>\n",
       "      <th>...</th>\n",
       "      <td>...</td>\n",
       "      <td>...</td>\n",
       "      <td>...</td>\n",
       "      <td>...</td>\n",
       "      <td>...</td>\n",
       "      <td>...</td>\n",
       "      <td>...</td>\n",
       "    </tr>\n",
       "    <tr>\n",
       "      <th>5350</th>\n",
       "      <td>16733665</td>\n",
       "      <td>Cascade</td>\n",
       "      <td>Eastlake</td>\n",
       "      <td>47.64439</td>\n",
       "      <td>-122.32766</td>\n",
       "      <td>Entire home/apt</td>\n",
       "      <td>249</td>\n",
       "    </tr>\n",
       "    <tr>\n",
       "      <th>5351</th>\n",
       "      <td>25846790</td>\n",
       "      <td>Northgate</td>\n",
       "      <td>Pinehurst</td>\n",
       "      <td>47.74243</td>\n",
       "      <td>-122.32117</td>\n",
       "      <td>Entire home/apt</td>\n",
       "      <td>214</td>\n",
       "    </tr>\n",
       "    <tr>\n",
       "      <th>5352</th>\n",
       "      <td>49692446</td>\n",
       "      <td>Delridge</td>\n",
       "      <td>South Delridge</td>\n",
       "      <td>47.51330</td>\n",
       "      <td>-122.35545</td>\n",
       "      <td>Entire home/apt</td>\n",
       "      <td>150</td>\n",
       "    </tr>\n",
       "    <tr>\n",
       "      <th>5353</th>\n",
       "      <td>587785014993543336</td>\n",
       "      <td>Other neighborhoods</td>\n",
       "      <td>Sand Point</td>\n",
       "      <td>47.70310</td>\n",
       "      <td>-122.24173</td>\n",
       "      <td>Entire home/apt</td>\n",
       "      <td>171</td>\n",
       "    </tr>\n",
       "    <tr>\n",
       "      <th>5354</th>\n",
       "      <td>53475139</td>\n",
       "      <td>West Seattle</td>\n",
       "      <td>Alki</td>\n",
       "      <td>47.57556</td>\n",
       "      <td>-122.42070</td>\n",
       "      <td>Entire home/apt</td>\n",
       "      <td>65</td>\n",
       "    </tr>\n",
       "  </tbody>\n",
       "</table>\n",
       "<p>5355 rows × 7 columns</p>\n",
       "</div>"
      ],
      "text/plain": [
       "                      id  neighbourhood_group   neighbourhood  latitude  \\\n",
       "0     580365544480383496             Delridge   Highland Park  47.51075   \n",
       "1                5164039         West Seattle   Arbor Heights  47.49770   \n",
       "2               33448826             Delridge   Highland Park  47.50452   \n",
       "3                   6606  Other neighborhoods     Wallingford  47.65444   \n",
       "4                   9419  Other neighborhoods      Georgetown  47.55017   \n",
       "...                  ...                  ...             ...       ...   \n",
       "5350            16733665              Cascade        Eastlake  47.64439   \n",
       "5351            25846790            Northgate       Pinehurst  47.74243   \n",
       "5352            49692446             Delridge  South Delridge  47.51330   \n",
       "5353  587785014993543336  Other neighborhoods      Sand Point  47.70310   \n",
       "5354            53475139         West Seattle            Alki  47.57556   \n",
       "\n",
       "      longitude        room_type  price  \n",
       "0    -122.34122  Entire home/apt    149  \n",
       "1    -122.37003  Entire home/apt     98  \n",
       "2    -122.34009  Entire home/apt    335  \n",
       "3    -122.33629  Entire home/apt     99  \n",
       "4    -122.31937     Private room     80  \n",
       "...         ...              ...    ...  \n",
       "5350 -122.32766  Entire home/apt    249  \n",
       "5351 -122.32117  Entire home/apt    214  \n",
       "5352 -122.35545  Entire home/apt    150  \n",
       "5353 -122.24173  Entire home/apt    171  \n",
       "5354 -122.42070  Entire home/apt     65  \n",
       "\n",
       "[5355 rows x 7 columns]"
      ]
     },
     "execution_count": 8,
     "metadata": {},
     "output_type": "execute_result"
    }
   ],
   "source": [
    "df1"
   ]
  },
  {
   "cell_type": "code",
   "execution_count": 12,
   "metadata": {},
   "outputs": [],
   "source": [
    "import geopy"
   ]
  },
  {
   "cell_type": "code",
   "execution_count": 13,
   "metadata": {},
   "outputs": [],
   "source": [
    "user_agent1 = 'Mozilla/5.0 (Macintosh; Intel Mac OS X 10_15_7) AppleWebKit/537.36 (KHTML, like Gecko) Chrome/104.0.0.0 Safari/537.36' "
   ]
  },
  {
   "cell_type": "code",
   "execution_count": 15,
   "metadata": {},
   "outputs": [],
   "source": [
    "from geopy.geocoders import Nominatim\n",
    "from geopy.distance import geodesic \n",
    "import geopy \n",
    "geocoder = Nominatim(user_agent = user_agent1)\n",
    "\n",
    "\n",
    "#for x in list(zip(df1.lat, df.long)): \n",
    "    \n",
    "\n",
    "#get_geocoder_for_service(\"nominatim\")\n",
    "#geocoder = Nominatim(user_agent = 'T')"
   ]
  },
  {
   "cell_type": "code",
   "execution_count": 16,
   "metadata": {},
   "outputs": [],
   "source": [
    "def get_zipcode(df, geolocator, lat_field, lon_field):\n",
    "    location = geocoder.reverse((df[lat_field], df[lon_field]))\n",
    "    return location.raw['address']['postcode']"
   ]
  },
  {
   "cell_type": "code",
   "execution_count": null,
   "metadata": {},
   "outputs": [],
   "source": [
    "geocoder.reverse((df['lat_field'], df[lon_field]))"
   ]
  },
  {
   "cell_type": "code",
   "execution_count": 23,
   "metadata": {},
   "outputs": [
    {
     "ename": "KeyError",
     "evalue": "47.55017",
     "output_type": "error",
     "traceback": [
      "\u001b[0;31m---------------------------------------------------------------------------\u001b[0m",
      "\u001b[0;31mKeyError\u001b[0m                                  Traceback (most recent call last)",
      "\u001b[0;32m~/opt/anaconda3/envs/learn-env/lib/python3.8/site-packages/pandas/core/indexes/base.py\u001b[0m in \u001b[0;36mget_loc\u001b[0;34m(self, key, method, tolerance)\u001b[0m\n\u001b[1;32m   2894\u001b[0m             \u001b[0;32mtry\u001b[0m\u001b[0;34m:\u001b[0m\u001b[0;34m\u001b[0m\u001b[0;34m\u001b[0m\u001b[0m\n\u001b[0;32m-> 2895\u001b[0;31m                 \u001b[0;32mreturn\u001b[0m \u001b[0mself\u001b[0m\u001b[0;34m.\u001b[0m\u001b[0m_engine\u001b[0m\u001b[0;34m.\u001b[0m\u001b[0mget_loc\u001b[0m\u001b[0;34m(\u001b[0m\u001b[0mcasted_key\u001b[0m\u001b[0;34m)\u001b[0m\u001b[0;34m\u001b[0m\u001b[0;34m\u001b[0m\u001b[0m\n\u001b[0m\u001b[1;32m   2896\u001b[0m             \u001b[0;32mexcept\u001b[0m \u001b[0mKeyError\u001b[0m \u001b[0;32mas\u001b[0m \u001b[0merr\u001b[0m\u001b[0;34m:\u001b[0m\u001b[0;34m\u001b[0m\u001b[0;34m\u001b[0m\u001b[0m\n",
      "\u001b[0;32mpandas/_libs/index.pyx\u001b[0m in \u001b[0;36mpandas._libs.index.IndexEngine.get_loc\u001b[0;34m()\u001b[0m\n",
      "\u001b[0;32mpandas/_libs/index.pyx\u001b[0m in \u001b[0;36mpandas._libs.index.IndexEngine.get_loc\u001b[0;34m()\u001b[0m\n",
      "\u001b[0;32mpandas/_libs/hashtable_class_helper.pxi\u001b[0m in \u001b[0;36mpandas._libs.hashtable.PyObjectHashTable.get_item\u001b[0;34m()\u001b[0m\n",
      "\u001b[0;32mpandas/_libs/hashtable_class_helper.pxi\u001b[0m in \u001b[0;36mpandas._libs.hashtable.PyObjectHashTable.get_item\u001b[0;34m()\u001b[0m\n",
      "\u001b[0;31mKeyError\u001b[0m: 47.55017",
      "\nThe above exception was the direct cause of the following exception:\n",
      "\u001b[0;31mKeyError\u001b[0m                                  Traceback (most recent call last)",
      "\u001b[0;32m<ipython-input-23-11119ef50f7c>\u001b[0m in \u001b[0;36m<module>\u001b[0;34m\u001b[0m\n\u001b[0;32m----> 1\u001b[0;31m \u001b[0mget_zipcode\u001b[0m\u001b[0;34m(\u001b[0m\u001b[0mdf1\u001b[0m\u001b[0;34m,\u001b[0m \u001b[0mNominatim\u001b[0m\u001b[0;34m,\u001b[0m \u001b[0;36m47.55017\u001b[0m\u001b[0;34m,\u001b[0m \u001b[0;34m-\u001b[0m\u001b[0;36m122.32117\u001b[0m\u001b[0;34m)\u001b[0m\u001b[0;34m\u001b[0m\u001b[0;34m\u001b[0m\u001b[0m\n\u001b[0m",
      "\u001b[0;32m<ipython-input-16-cdff4f2c6dbc>\u001b[0m in \u001b[0;36mget_zipcode\u001b[0;34m(df, geolocator, lat_field, lon_field)\u001b[0m\n\u001b[1;32m      1\u001b[0m \u001b[0;32mdef\u001b[0m \u001b[0mget_zipcode\u001b[0m\u001b[0;34m(\u001b[0m\u001b[0mdf\u001b[0m\u001b[0;34m,\u001b[0m \u001b[0mgeolocator\u001b[0m\u001b[0;34m,\u001b[0m \u001b[0mlat_field\u001b[0m\u001b[0;34m,\u001b[0m \u001b[0mlon_field\u001b[0m\u001b[0;34m)\u001b[0m\u001b[0;34m:\u001b[0m\u001b[0;34m\u001b[0m\u001b[0;34m\u001b[0m\u001b[0m\n\u001b[0;32m----> 2\u001b[0;31m     \u001b[0mlocation\u001b[0m \u001b[0;34m=\u001b[0m \u001b[0mgeocoder\u001b[0m\u001b[0;34m.\u001b[0m\u001b[0mreverse\u001b[0m\u001b[0;34m(\u001b[0m\u001b[0;34m(\u001b[0m\u001b[0mdf\u001b[0m\u001b[0;34m[\u001b[0m\u001b[0mlat_field\u001b[0m\u001b[0;34m]\u001b[0m\u001b[0;34m,\u001b[0m \u001b[0mdf\u001b[0m\u001b[0;34m[\u001b[0m\u001b[0mlon_field\u001b[0m\u001b[0;34m]\u001b[0m\u001b[0;34m)\u001b[0m\u001b[0;34m)\u001b[0m\u001b[0;34m\u001b[0m\u001b[0;34m\u001b[0m\u001b[0m\n\u001b[0m\u001b[1;32m      3\u001b[0m     \u001b[0;32mreturn\u001b[0m \u001b[0mlocation\u001b[0m\u001b[0;34m.\u001b[0m\u001b[0mraw\u001b[0m\u001b[0;34m[\u001b[0m\u001b[0;34m'address'\u001b[0m\u001b[0;34m]\u001b[0m\u001b[0;34m[\u001b[0m\u001b[0;34m'postcode'\u001b[0m\u001b[0;34m]\u001b[0m\u001b[0;34m\u001b[0m\u001b[0;34m\u001b[0m\u001b[0m\n",
      "\u001b[0;32m~/opt/anaconda3/envs/learn-env/lib/python3.8/site-packages/pandas/core/frame.py\u001b[0m in \u001b[0;36m__getitem__\u001b[0;34m(self, key)\u001b[0m\n\u001b[1;32m   2900\u001b[0m             \u001b[0;32mif\u001b[0m \u001b[0mself\u001b[0m\u001b[0;34m.\u001b[0m\u001b[0mcolumns\u001b[0m\u001b[0;34m.\u001b[0m\u001b[0mnlevels\u001b[0m \u001b[0;34m>\u001b[0m \u001b[0;36m1\u001b[0m\u001b[0;34m:\u001b[0m\u001b[0;34m\u001b[0m\u001b[0;34m\u001b[0m\u001b[0m\n\u001b[1;32m   2901\u001b[0m                 \u001b[0;32mreturn\u001b[0m \u001b[0mself\u001b[0m\u001b[0;34m.\u001b[0m\u001b[0m_getitem_multilevel\u001b[0m\u001b[0;34m(\u001b[0m\u001b[0mkey\u001b[0m\u001b[0;34m)\u001b[0m\u001b[0;34m\u001b[0m\u001b[0;34m\u001b[0m\u001b[0m\n\u001b[0;32m-> 2902\u001b[0;31m             \u001b[0mindexer\u001b[0m \u001b[0;34m=\u001b[0m \u001b[0mself\u001b[0m\u001b[0;34m.\u001b[0m\u001b[0mcolumns\u001b[0m\u001b[0;34m.\u001b[0m\u001b[0mget_loc\u001b[0m\u001b[0;34m(\u001b[0m\u001b[0mkey\u001b[0m\u001b[0;34m)\u001b[0m\u001b[0;34m\u001b[0m\u001b[0;34m\u001b[0m\u001b[0m\n\u001b[0m\u001b[1;32m   2903\u001b[0m             \u001b[0;32mif\u001b[0m \u001b[0mis_integer\u001b[0m\u001b[0;34m(\u001b[0m\u001b[0mindexer\u001b[0m\u001b[0;34m)\u001b[0m\u001b[0;34m:\u001b[0m\u001b[0;34m\u001b[0m\u001b[0;34m\u001b[0m\u001b[0m\n\u001b[1;32m   2904\u001b[0m                 \u001b[0mindexer\u001b[0m \u001b[0;34m=\u001b[0m \u001b[0;34m[\u001b[0m\u001b[0mindexer\u001b[0m\u001b[0;34m]\u001b[0m\u001b[0;34m\u001b[0m\u001b[0;34m\u001b[0m\u001b[0m\n",
      "\u001b[0;32m~/opt/anaconda3/envs/learn-env/lib/python3.8/site-packages/pandas/core/indexes/base.py\u001b[0m in \u001b[0;36mget_loc\u001b[0;34m(self, key, method, tolerance)\u001b[0m\n\u001b[1;32m   2895\u001b[0m                 \u001b[0;32mreturn\u001b[0m \u001b[0mself\u001b[0m\u001b[0;34m.\u001b[0m\u001b[0m_engine\u001b[0m\u001b[0;34m.\u001b[0m\u001b[0mget_loc\u001b[0m\u001b[0;34m(\u001b[0m\u001b[0mcasted_key\u001b[0m\u001b[0;34m)\u001b[0m\u001b[0;34m\u001b[0m\u001b[0;34m\u001b[0m\u001b[0m\n\u001b[1;32m   2896\u001b[0m             \u001b[0;32mexcept\u001b[0m \u001b[0mKeyError\u001b[0m \u001b[0;32mas\u001b[0m \u001b[0merr\u001b[0m\u001b[0;34m:\u001b[0m\u001b[0;34m\u001b[0m\u001b[0;34m\u001b[0m\u001b[0m\n\u001b[0;32m-> 2897\u001b[0;31m                 \u001b[0;32mraise\u001b[0m \u001b[0mKeyError\u001b[0m\u001b[0;34m(\u001b[0m\u001b[0mkey\u001b[0m\u001b[0;34m)\u001b[0m \u001b[0;32mfrom\u001b[0m \u001b[0merr\u001b[0m\u001b[0;34m\u001b[0m\u001b[0;34m\u001b[0m\u001b[0m\n\u001b[0m\u001b[1;32m   2898\u001b[0m \u001b[0;34m\u001b[0m\u001b[0m\n\u001b[1;32m   2899\u001b[0m         \u001b[0;32mif\u001b[0m \u001b[0mtolerance\u001b[0m \u001b[0;32mis\u001b[0m \u001b[0;32mnot\u001b[0m \u001b[0;32mNone\u001b[0m\u001b[0;34m:\u001b[0m\u001b[0;34m\u001b[0m\u001b[0;34m\u001b[0m\u001b[0m\n",
      "\u001b[0;31mKeyError\u001b[0m: 47.55017"
     ]
    }
   ],
   "source": [
    "get_zipcode(df1, Nominatim, 47.55017, -122.32117)"
   ]
  }
 ],
 "metadata": {
  "kernelspec": {
   "display_name": "Python (learn-env)",
   "language": "python",
   "name": "learn-env"
  },
  "language_info": {
   "codemirror_mode": {
    "name": "ipython",
    "version": 3
   },
   "file_extension": ".py",
   "mimetype": "text/x-python",
   "name": "python",
   "nbconvert_exporter": "python",
   "pygments_lexer": "ipython3",
   "version": "3.8.5"
  }
 },
 "nbformat": 4,
 "nbformat_minor": 4
}
