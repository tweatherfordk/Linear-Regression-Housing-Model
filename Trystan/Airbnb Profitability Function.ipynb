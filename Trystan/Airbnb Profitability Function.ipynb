{
 "cells": [
  {
   "cell_type": "markdown",
   "metadata": {
    "pycharm": {
     "name": "#%% md\n"
    }
   },
   "source": [
    "# Airbnb Profitability Function"
   ]
  },
  {
   "cell_type": "markdown",
   "metadata": {
    "pycharm": {
     "name": "#%% md\n"
    }
   },
   "source": [
    "The purpose is to create a function to estimate if it is profitable for a existing or perspective homeowner to invest in a property to Airbnb. \n",
    "\n",
    "Effectively, the forumla will take this form:\n",
    "\n",
    "        Profit = Airbnb Revenue - Mortgage Payments\n",
    "\n",
    "Airbnb revenue and the cost of the mortgage will be calculated over a 12 month period, so profit will represent yearly profit."
   ]
  },
  {
   "cell_type": "markdown",
   "metadata": {
    "pycharm": {
     "name": "#%% md\n"
    }
   },
   "source": [
    "Average mortgage rate for a 30-year mortgage for the state of Washington:  6.20% (as of Wednesday, September 14th, 2022)\n",
    "[Source](https://www.bankrate.com/mortgages/mortgage-rates/washington/?mortgageType=Refinance&partnerId=Refinance&pid=br3&pointsChanged=false&refinanceCashOutAmount=0&refinanceLoanAmount=765600&refinanceLoanTerms=30yr%2C15yr&refinancePoints=All&refinancePropertyType=SingleFamily&refinancePropertyUse=PrimaryResidence&refinancePropertyValue=957000&searchChanged=false&showingStacked=all&ttcid&userCreditScore=740&userFha=false&userVeteranStatus=NoMilitaryService&zipCode=10270)"
   ]
  },
  {
   "cell_type": "markdown",
   "metadata": {
    "pycharm": {
     "name": "#%% md\n"
    }
   },
   "source": [
    "Average Airbnb Occupancy Rate for King County: 87.91% \n",
    "    [Source](https://www.dpgo.com/go/top-10-vacation-rental-locations/)"
   ]
  },
  {
   "cell_type": "code",
   "execution_count": 71,
   "metadata": {
    "pycharm": {
     "name": "#%%\n"
    }
   },
   "outputs": [],
   "source": [
    "avg_mortgage_rate = 0.0620\n",
    "avg_airbnb_occupancy = .8791"
   ]
  },
  {
   "cell_type": "markdown",
   "metadata": {
    "pycharm": {
     "name": "#%% md\n"
    }
   },
   "source": [
    "Load in Airbnb Average Price and House Price data based on Seattle zipcode"
   ]
  },
  {
   "cell_type": "code",
   "execution_count": 143,
   "metadata": {
    "pycharm": {
     "name": "#%%\n"
    }
   },
   "outputs": [
    {
     "data": {
      "text/html": [
       "<div>\n",
       "<style scoped>\n",
       "    .dataframe tbody tr th:only-of-type {\n",
       "        vertical-align: middle;\n",
       "    }\n",
       "\n",
       "    .dataframe tbody tr th {\n",
       "        vertical-align: top;\n",
       "    }\n",
       "\n",
       "    .dataframe thead th {\n",
       "        text-align: right;\n",
       "    }\n",
       "</style>\n",
       "<table border=\"1\" class=\"dataframe\">\n",
       "  <thead>\n",
       "    <tr style=\"text-align: right;\">\n",
       "      <th></th>\n",
       "      <th>id_x</th>\n",
       "      <th>date</th>\n",
       "      <th>bedrooms</th>\n",
       "      <th>bathrooms</th>\n",
       "      <th>sqft_living</th>\n",
       "      <th>sqft_lot</th>\n",
       "      <th>floors</th>\n",
       "      <th>waterfront</th>\n",
       "      <th>sqft_above</th>\n",
       "      <th>sqft_basement</th>\n",
       "      <th>...</th>\n",
       "      <th>renov_yr_clean</th>\n",
       "      <th>view_ord</th>\n",
       "      <th>condition_ord</th>\n",
       "      <th>grade_ord</th>\n",
       "      <th>age</th>\n",
       "      <th>id_y</th>\n",
       "      <th>latitude</th>\n",
       "      <th>longitude</th>\n",
       "      <th>airbnb_avg_price</th>\n",
       "      <th>house_price</th>\n",
       "    </tr>\n",
       "  </thead>\n",
       "  <tbody>\n",
       "    <tr>\n",
       "      <th>0</th>\n",
       "      <td>7129300520</td>\n",
       "      <td>2014-10-13</td>\n",
       "      <td>3</td>\n",
       "      <td>1.00</td>\n",
       "      <td>1180</td>\n",
       "      <td>5650</td>\n",
       "      <td>1.0</td>\n",
       "      <td>0</td>\n",
       "      <td>1180</td>\n",
       "      <td>0.0</td>\n",
       "      <td>...</td>\n",
       "      <td>1955.0</td>\n",
       "      <td>0.0</td>\n",
       "      <td>2.0</td>\n",
       "      <td>4.0</td>\n",
       "      <td>60</td>\n",
       "      <td>7.345680e+16</td>\n",
       "      <td>47.500403</td>\n",
       "      <td>-122.243751</td>\n",
       "      <td>170.121951</td>\n",
       "      <td>221900.0</td>\n",
       "    </tr>\n",
       "    <tr>\n",
       "      <th>1</th>\n",
       "      <td>4060000240</td>\n",
       "      <td>2014-06-23</td>\n",
       "      <td>2</td>\n",
       "      <td>1.00</td>\n",
       "      <td>880</td>\n",
       "      <td>6780</td>\n",
       "      <td>1.0</td>\n",
       "      <td>0</td>\n",
       "      <td>880</td>\n",
       "      <td>0.0</td>\n",
       "      <td>...</td>\n",
       "      <td>1945.0</td>\n",
       "      <td>0.0</td>\n",
       "      <td>3.0</td>\n",
       "      <td>3.0</td>\n",
       "      <td>70</td>\n",
       "      <td>7.345680e+16</td>\n",
       "      <td>47.500403</td>\n",
       "      <td>-122.243751</td>\n",
       "      <td>170.121951</td>\n",
       "      <td>205425.0</td>\n",
       "    </tr>\n",
       "    <tr>\n",
       "      <th>2</th>\n",
       "      <td>4058801670</td>\n",
       "      <td>2014-07-17</td>\n",
       "      <td>3</td>\n",
       "      <td>2.25</td>\n",
       "      <td>2100</td>\n",
       "      <td>8201</td>\n",
       "      <td>1.0</td>\n",
       "      <td>0</td>\n",
       "      <td>1620</td>\n",
       "      <td>480.0</td>\n",
       "      <td>...</td>\n",
       "      <td>1967.0</td>\n",
       "      <td>2.0</td>\n",
       "      <td>2.0</td>\n",
       "      <td>5.0</td>\n",
       "      <td>48</td>\n",
       "      <td>7.345680e+16</td>\n",
       "      <td>47.500403</td>\n",
       "      <td>-122.243751</td>\n",
       "      <td>170.121951</td>\n",
       "      <td>445000.0</td>\n",
       "    </tr>\n",
       "    <tr>\n",
       "      <th>3</th>\n",
       "      <td>2976800796</td>\n",
       "      <td>2014-09-25</td>\n",
       "      <td>3</td>\n",
       "      <td>1.00</td>\n",
       "      <td>1300</td>\n",
       "      <td>5898</td>\n",
       "      <td>1.0</td>\n",
       "      <td>0</td>\n",
       "      <td>1300</td>\n",
       "      <td>0.0</td>\n",
       "      <td>...</td>\n",
       "      <td>1961.0</td>\n",
       "      <td>0.0</td>\n",
       "      <td>2.0</td>\n",
       "      <td>4.0</td>\n",
       "      <td>54</td>\n",
       "      <td>7.345680e+16</td>\n",
       "      <td>47.500403</td>\n",
       "      <td>-122.243751</td>\n",
       "      <td>170.121951</td>\n",
       "      <td>236000.0</td>\n",
       "    </tr>\n",
       "    <tr>\n",
       "      <th>4</th>\n",
       "      <td>6874200960</td>\n",
       "      <td>2015-02-27</td>\n",
       "      <td>2</td>\n",
       "      <td>1.00</td>\n",
       "      <td>860</td>\n",
       "      <td>5265</td>\n",
       "      <td>1.0</td>\n",
       "      <td>0</td>\n",
       "      <td>860</td>\n",
       "      <td>0.0</td>\n",
       "      <td>...</td>\n",
       "      <td>1931.0</td>\n",
       "      <td>0.0</td>\n",
       "      <td>2.0</td>\n",
       "      <td>3.0</td>\n",
       "      <td>84</td>\n",
       "      <td>7.345680e+16</td>\n",
       "      <td>47.500403</td>\n",
       "      <td>-122.243751</td>\n",
       "      <td>170.121951</td>\n",
       "      <td>170000.0</td>\n",
       "    </tr>\n",
       "    <tr>\n",
       "      <th>...</th>\n",
       "      <td>...</td>\n",
       "      <td>...</td>\n",
       "      <td>...</td>\n",
       "      <td>...</td>\n",
       "      <td>...</td>\n",
       "      <td>...</td>\n",
       "      <td>...</td>\n",
       "      <td>...</td>\n",
       "      <td>...</td>\n",
       "      <td>...</td>\n",
       "      <td>...</td>\n",
       "      <td>...</td>\n",
       "      <td>...</td>\n",
       "      <td>...</td>\n",
       "      <td>...</td>\n",
       "      <td>...</td>\n",
       "      <td>...</td>\n",
       "      <td>...</td>\n",
       "      <td>...</td>\n",
       "      <td>...</td>\n",
       "      <td>...</td>\n",
       "    </tr>\n",
       "    <tr>\n",
       "      <th>9351</th>\n",
       "      <td>2895800590</td>\n",
       "      <td>2014-10-20</td>\n",
       "      <td>5</td>\n",
       "      <td>2.50</td>\n",
       "      <td>2170</td>\n",
       "      <td>2752</td>\n",
       "      <td>2.0</td>\n",
       "      <td>0</td>\n",
       "      <td>2170</td>\n",
       "      <td>0.0</td>\n",
       "      <td>...</td>\n",
       "      <td>2014.0</td>\n",
       "      <td>0.0</td>\n",
       "      <td>2.0</td>\n",
       "      <td>5.0</td>\n",
       "      <td>1</td>\n",
       "      <td>6.652046e+16</td>\n",
       "      <td>47.541882</td>\n",
       "      <td>-122.358118</td>\n",
       "      <td>176.106557</td>\n",
       "      <td>359800.0</td>\n",
       "    </tr>\n",
       "    <tr>\n",
       "      <th>9352</th>\n",
       "      <td>3438503021</td>\n",
       "      <td>2014-11-05</td>\n",
       "      <td>3</td>\n",
       "      <td>2.50</td>\n",
       "      <td>2430</td>\n",
       "      <td>7049</td>\n",
       "      <td>2.0</td>\n",
       "      <td>0</td>\n",
       "      <td>2430</td>\n",
       "      <td>0.0</td>\n",
       "      <td>...</td>\n",
       "      <td>2007.0</td>\n",
       "      <td>0.0</td>\n",
       "      <td>2.0</td>\n",
       "      <td>5.0</td>\n",
       "      <td>8</td>\n",
       "      <td>6.652046e+16</td>\n",
       "      <td>47.541882</td>\n",
       "      <td>-122.358118</td>\n",
       "      <td>176.106557</td>\n",
       "      <td>443000.0</td>\n",
       "    </tr>\n",
       "    <tr>\n",
       "      <th>9353</th>\n",
       "      <td>880000205</td>\n",
       "      <td>2014-07-29</td>\n",
       "      <td>3</td>\n",
       "      <td>2.00</td>\n",
       "      <td>1260</td>\n",
       "      <td>1125</td>\n",
       "      <td>2.0</td>\n",
       "      <td>0</td>\n",
       "      <td>810</td>\n",
       "      <td>450.0</td>\n",
       "      <td>...</td>\n",
       "      <td>2011.0</td>\n",
       "      <td>0.0</td>\n",
       "      <td>2.0</td>\n",
       "      <td>4.0</td>\n",
       "      <td>4</td>\n",
       "      <td>6.652046e+16</td>\n",
       "      <td>47.541882</td>\n",
       "      <td>-122.358118</td>\n",
       "      <td>176.106557</td>\n",
       "      <td>249000.0</td>\n",
       "    </tr>\n",
       "    <tr>\n",
       "      <th>9354</th>\n",
       "      <td>3438501329</td>\n",
       "      <td>2014-05-20</td>\n",
       "      <td>2</td>\n",
       "      <td>2.50</td>\n",
       "      <td>1590</td>\n",
       "      <td>2656</td>\n",
       "      <td>2.0</td>\n",
       "      <td>0</td>\n",
       "      <td>1220</td>\n",
       "      <td>370.0</td>\n",
       "      <td>...</td>\n",
       "      <td>2009.0</td>\n",
       "      <td>0.0</td>\n",
       "      <td>2.0</td>\n",
       "      <td>4.0</td>\n",
       "      <td>6</td>\n",
       "      <td>6.652046e+16</td>\n",
       "      <td>47.541882</td>\n",
       "      <td>-122.358118</td>\n",
       "      <td>176.106557</td>\n",
       "      <td>305000.0</td>\n",
       "    </tr>\n",
       "    <tr>\n",
       "      <th>9355</th>\n",
       "      <td>3438501862</td>\n",
       "      <td>2014-05-13</td>\n",
       "      <td>3</td>\n",
       "      <td>2.50</td>\n",
       "      <td>1450</td>\n",
       "      <td>5008</td>\n",
       "      <td>1.0</td>\n",
       "      <td>0</td>\n",
       "      <td>840</td>\n",
       "      <td>610.0</td>\n",
       "      <td>...</td>\n",
       "      <td>2007.0</td>\n",
       "      <td>0.0</td>\n",
       "      <td>2.0</td>\n",
       "      <td>4.0</td>\n",
       "      <td>8</td>\n",
       "      <td>6.652046e+16</td>\n",
       "      <td>47.541882</td>\n",
       "      <td>-122.358118</td>\n",
       "      <td>176.106557</td>\n",
       "      <td>330000.0</td>\n",
       "    </tr>\n",
       "  </tbody>\n",
       "</table>\n",
       "<p>9356 rows × 27 columns</p>\n",
       "</div>"
      ],
      "text/plain": [
       "            id_x        date  bedrooms  bathrooms  sqft_living  sqft_lot  \\\n",
       "0     7129300520  2014-10-13         3       1.00         1180      5650   \n",
       "1     4060000240  2014-06-23         2       1.00          880      6780   \n",
       "2     4058801670  2014-07-17         3       2.25         2100      8201   \n",
       "3     2976800796  2014-09-25         3       1.00         1300      5898   \n",
       "4     6874200960  2015-02-27         2       1.00          860      5265   \n",
       "...          ...         ...       ...        ...          ...       ...   \n",
       "9351  2895800590  2014-10-20         5       2.50         2170      2752   \n",
       "9352  3438503021  2014-11-05         3       2.50         2430      7049   \n",
       "9353   880000205  2014-07-29         3       2.00         1260      1125   \n",
       "9354  3438501329  2014-05-20         2       2.50         1590      2656   \n",
       "9355  3438501862  2014-05-13         3       2.50         1450      5008   \n",
       "\n",
       "      floors  waterfront  sqft_above  sqft_basement  ...  renov_yr_clean  \\\n",
       "0        1.0           0        1180            0.0  ...          1955.0   \n",
       "1        1.0           0         880            0.0  ...          1945.0   \n",
       "2        1.0           0        1620          480.0  ...          1967.0   \n",
       "3        1.0           0        1300            0.0  ...          1961.0   \n",
       "4        1.0           0         860            0.0  ...          1931.0   \n",
       "...      ...         ...         ...            ...  ...             ...   \n",
       "9351     2.0           0        2170            0.0  ...          2014.0   \n",
       "9352     2.0           0        2430            0.0  ...          2007.0   \n",
       "9353     2.0           0         810          450.0  ...          2011.0   \n",
       "9354     2.0           0        1220          370.0  ...          2009.0   \n",
       "9355     1.0           0         840          610.0  ...          2007.0   \n",
       "\n",
       "      view_ord  condition_ord  grade_ord  age          id_y   latitude  \\\n",
       "0          0.0            2.0        4.0   60  7.345680e+16  47.500403   \n",
       "1          0.0            3.0        3.0   70  7.345680e+16  47.500403   \n",
       "2          2.0            2.0        5.0   48  7.345680e+16  47.500403   \n",
       "3          0.0            2.0        4.0   54  7.345680e+16  47.500403   \n",
       "4          0.0            2.0        3.0   84  7.345680e+16  47.500403   \n",
       "...        ...            ...        ...  ...           ...        ...   \n",
       "9351       0.0            2.0        5.0    1  6.652046e+16  47.541882   \n",
       "9352       0.0            2.0        5.0    8  6.652046e+16  47.541882   \n",
       "9353       0.0            2.0        4.0    4  6.652046e+16  47.541882   \n",
       "9354       0.0            2.0        4.0    6  6.652046e+16  47.541882   \n",
       "9355       0.0            2.0        4.0    8  6.652046e+16  47.541882   \n",
       "\n",
       "       longitude  airbnb_avg_price  house_price  \n",
       "0    -122.243751        170.121951     221900.0  \n",
       "1    -122.243751        170.121951     205425.0  \n",
       "2    -122.243751        170.121951     445000.0  \n",
       "3    -122.243751        170.121951     236000.0  \n",
       "4    -122.243751        170.121951     170000.0  \n",
       "...          ...               ...          ...  \n",
       "9351 -122.358118        176.106557     359800.0  \n",
       "9352 -122.358118        176.106557     443000.0  \n",
       "9353 -122.358118        176.106557     249000.0  \n",
       "9354 -122.358118        176.106557     305000.0  \n",
       "9355 -122.358118        176.106557     330000.0  \n",
       "\n",
       "[9356 rows x 27 columns]"
      ]
     },
     "execution_count": 143,
     "metadata": {},
     "output_type": "execute_result"
    }
   ],
   "source": [
    "import pandas as pd\n",
    "\n",
    "seattle_df = pd.read_csv('/Users/weatherford/Documents/Flatiron/Phase_2_Housing_Project/data/seattle.csv')\n",
    "seattle_df = seattle_df.drop(columns= 'Unnamed: 0')\n",
    "seattle_df"
   ]
  },
  {
   "cell_type": "code",
   "execution_count": 144,
   "metadata": {
    "pycharm": {
     "name": "#%%\n"
    }
   },
   "outputs": [
    {
     "data": {
      "text/plain": [
       "28"
      ]
     },
     "execution_count": 144,
     "metadata": {},
     "output_type": "execute_result"
    }
   ],
   "source": [
    "len(seattle_df.zipcode.unique())"
   ]
  },
  {
   "cell_type": "code",
   "execution_count": 145,
   "metadata": {
    "pycharm": {
     "name": "#%%\n"
    }
   },
   "outputs": [
    {
     "data": {
      "text/plain": [
       "0     123535.527500\n",
       "1      36472.393833\n",
       "2      93106.213583\n",
       "3      72196.087500\n",
       "4      75854.499732\n",
       "5      66906.883097\n",
       "6      63609.317208\n",
       "7      53949.194867\n",
       "8      51175.795535\n",
       "9      56507.575225\n",
       "10     67890.472570\n",
       "11     49963.394913\n",
       "12     67614.340965\n",
       "13     74993.912751\n",
       "14     54329.444381\n",
       "15     69315.578206\n",
       "16     57653.363065\n",
       "17     54870.144519\n",
       "18     83521.132496\n",
       "19     69748.959072\n",
       "20     66757.537376\n",
       "21     51372.922243\n",
       "22     54371.495410\n",
       "23     44776.920278\n",
       "24    108775.438500\n",
       "25     58107.246925\n",
       "26     62351.662568\n",
       "27     43881.943759\n",
       "28     41847.613302\n",
       "29     49871.749991\n",
       "30     83105.718500\n",
       "31     58771.237968\n",
       "32     54587.285671\n",
       "33     54227.283500\n",
       "34     68788.094411\n",
       "Name: price, dtype: float64"
      ]
     },
     "execution_count": 145,
     "metadata": {},
     "output_type": "execute_result"
    }
   ],
   "source": [
    "airbnb_revenue = zip_price['price'] * (365) * avg_airbnb_occupancy\n",
    "airbnb_revenue"
   ]
  },
  {
   "cell_type": "code",
   "execution_count": 146,
   "metadata": {
    "pycharm": {
     "name": "#%%\n"
    }
   },
   "outputs": [
    {
     "data": {
      "text/plain": [
       "0       54587.285671\n",
       "1       54587.285671\n",
       "2       54587.285671\n",
       "3       54587.285671\n",
       "4       54587.285671\n",
       "            ...     \n",
       "9351    56507.575225\n",
       "9352    56507.575225\n",
       "9353    56507.575225\n",
       "9354    56507.575225\n",
       "9355    56507.575225\n",
       "Name: airbnb_avg_price, Length: 9356, dtype: float64"
      ]
     },
     "execution_count": 146,
     "metadata": {},
     "output_type": "execute_result"
    }
   ],
   "source": [
    "airbnb_revenue = seattle_df['airbnb_avg_price'] * (365) * avg_airbnb_occupancy\n",
    "airbnb_revenue\n"
   ]
  },
  {
   "cell_type": "markdown",
   "metadata": {
    "pycharm": {
     "name": "#%% md\n"
    }
   },
   "source": [
    "Mortgage Cost\n",
    "\n",
    "$$Mortgage Cost = P  \\frac{r (1+ r)^{n}}{ (1+r)^{n} - 1}$$\n",
    "\n",
    "Where P equals housing price, r equals the interest rate, and n equals the number of payments over the duration of the loan\n",
    "\n",
    "\n",
    "For our particular model:\n",
    "- r = 6.20%\n",
    "- n = 30, as we are calculating yearly mortgage cost for a 30 year mortgage\n",
    "- P is each house's sale price from the Seattle subset of the King County dataset\n"
   ]
  },
  {
   "cell_type": "code",
   "execution_count": 147,
   "metadata": {
    "pycharm": {
     "name": "#%%\n"
    }
   },
   "outputs": [
    {
     "data": {
      "text/plain": [
       "Index(['id_x', 'date', 'bedrooms', 'bathrooms', 'sqft_living', 'sqft_lot',\n",
       "       'floors', 'waterfront', 'sqft_above', 'sqft_basement', 'yr_built',\n",
       "       'yr_renovated', 'zipcode', 'lat', 'long', 'sqft_living15', 'sqft_lot15',\n",
       "       'renov_yr_clean', 'view_ord', 'condition_ord', 'grade_ord', 'age',\n",
       "       'id_y', 'latitude', 'longitude', 'airbnb_avg_price', 'house_price'],\n",
       "      dtype='object')"
      ]
     },
     "execution_count": 147,
     "metadata": {},
     "output_type": "execute_result"
    }
   ],
   "source": [
    "seattle_df.columns"
   ]
  },
  {
   "cell_type": "code",
   "execution_count": 148,
   "metadata": {
    "pycharm": {
     "name": "#%%\n"
    }
   },
   "outputs": [
    {
     "data": {
      "text/plain": [
       "28"
      ]
     },
     "execution_count": 148,
     "metadata": {},
     "output_type": "execute_result"
    }
   ],
   "source": [
    "len(seattle_df['zipcode'].unique())"
   ]
  },
  {
   "cell_type": "code",
   "execution_count": 152,
   "metadata": {
    "pycharm": {
     "name": "#%%\n"
    }
   },
   "outputs": [
    {
     "data": {
      "text/plain": [
       "26715.736475425732"
      ]
     },
     "execution_count": 152,
     "metadata": {},
     "output_type": "execute_result"
    }
   ],
   "source": [
    "360000 * (avg_mortgage_rate * (1+avg_mortgage_rate)**30)/(((1+0.062)**30-1)) #Test of the formula"
   ]
  },
  {
   "cell_type": "code",
   "execution_count": 153,
   "metadata": {
    "pycharm": {
     "name": "#%%\n"
    }
   },
   "outputs": [
    {
     "data": {
      "text/plain": [
       "0       16467.283122\n",
       "1       15244.667126\n",
       "2       33023.618699\n",
       "3       17513.649467\n",
       "4       12615.764447\n",
       "            ...     \n",
       "9351    26700.894400\n",
       "9352    32875.197941\n",
       "9353    18478.384396\n",
       "9354    22634.165625\n",
       "9355    24489.425102\n",
       "Name: house_price, Length: 9356, dtype: float64"
      ]
     },
     "execution_count": 153,
     "metadata": {},
     "output_type": "execute_result"
    }
   ],
   "source": [
    "annual_mortgage = seattle_df['house_price'] * (avg_mortgage_rate * (1+avg_mortgage_rate)**30)/((1+0.062)**30-1)\n",
    "annual_mortgage"
   ]
  },
  {
   "cell_type": "code",
   "execution_count": 158,
   "metadata": {
    "scrolled": true,
    "pycharm": {
     "name": "#%%\n"
    }
   },
   "outputs": [
    {
     "data": {
      "text/plain": [
       "0       38120.002549\n",
       "1       39342.618544\n",
       "2       21563.666972\n",
       "3       37073.636204\n",
       "4       41971.521224\n",
       "            ...     \n",
       "9351    29806.680826\n",
       "9352    23632.377285\n",
       "9353    38029.190830\n",
       "9354    33873.409600\n",
       "9355    32018.150123\n",
       "Length: 9356, dtype: float64"
      ]
     },
     "execution_count": 158,
     "metadata": {},
     "output_type": "execute_result"
    }
   ],
   "source": [
    "profit = airbnb_revenue - annual_mortgage\n",
    "profit"
   ]
  }
 ],
 "metadata": {
  "kernelspec": {
   "display_name": "Python (learn-env)",
   "language": "python",
   "name": "learn-env"
  },
  "language_info": {
   "codemirror_mode": {
    "name": "ipython",
    "version": 3
   },
   "file_extension": ".py",
   "mimetype": "text/x-python",
   "name": "python",
   "nbconvert_exporter": "python",
   "pygments_lexer": "ipython3",
   "version": "3.8.5"
  }
 },
 "nbformat": 4,
 "nbformat_minor": 4
}