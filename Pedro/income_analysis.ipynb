{
 "cells": [
  {
   "cell_type": "markdown",
   "id": "a9ed4453-8bb1-4063-9847-01fd5ca3cd35",
   "metadata": {
    "pycharm": {
     "name": "#%% md\n"
    }
   },
   "source": [
    "In order to further improve our model, it is time to add even more data to our model! "
   ]
  },
  {
   "cell_type": "code",
   "execution_count": null,
   "id": "9f3d264a-ceb6-47a2-b8d4-eb0cc464eda7",
   "metadata": {
    "pycharm": {
     "name": "#%%\n",
     "is_executing": true
    }
   },
   "outputs": [],
   "source": [
    "import warnings\n",
    "import numpy as np\n",
    "import matplotlib.pyplot as plt\n",
    "import pandas as pd\n",
    "import seaborn as sns\n",
    "from   sklearn.linear_model import LinearRegression\n",
    "from   sklearn.model_selection import train_test_split\n",
    "from sklearn.preprocessing import PolynomialFeatures\n",
    "import plotly.express as px\n",
    "\n",
    "warnings.filterwarnings('ignore')"
   ]
  },
  {
   "cell_type": "code",
   "execution_count": null,
   "id": "7787d9a7-4316-4951-bfba-487416272ddf",
   "metadata": {
    "pycharm": {
     "name": "#%%\n",
     "is_executing": true
    }
   },
   "outputs": [],
   "source": [
    "avg_income = pd.read_excel(\"..\\\\data\\\\washington_state_income_by_zipcode.xlsx\", usecols = [\"Zip Code\", \"Location\", \"City\", \"Population\", \"Avg. Income/H/hold\", \"National Rank\"])\n",
    "avg_income.drop(index = [100, 201, 302, 403, 504], inplace = True)"
   ]
  },
  {
   "cell_type": "code",
   "execution_count": null,
   "id": "45f82cee-2577-4b8e-99fa-6f7550aad69f",
   "metadata": {
    "pycharm": {
     "name": "#%%\n",
     "is_executing": true
    }
   },
   "outputs": [],
   "source": [
    "avg_income.rename(columns = {'Zip Code': 'zipcode'}, inplace = True)"
   ]
  },
  {
   "cell_type": "code",
   "execution_count": null,
   "id": "6aa951c0-81ca-426d-abab-2bc5f3da23db",
   "metadata": {
    "pycharm": {
     "name": "#%%\n",
     "is_executing": true
    }
   },
   "outputs": [],
   "source": [
    "avg_income"
   ]
  },
  {
   "cell_type": "code",
   "execution_count": null,
   "id": "22c7a9c0-98b2-44c0-ae0c-8657c79803e2",
   "metadata": {
    "pycharm": {
     "name": "#%%\n",
     "is_executing": true
    }
   },
   "outputs": [],
   "source": [
    "avg_income[\"zipcode\"] = avg_income[\"zipcode\"].astype(\"int\")"
   ]
  },
  {
   "cell_type": "code",
   "execution_count": null,
   "id": "be539fdd-1e29-4a30-a29b-0595f6f8e2f3",
   "metadata": {
    "pycharm": {
     "name": "#%%\n",
     "is_executing": true
    }
   },
   "outputs": [],
   "source": [
    "['Population', \"Avg. Income/H/hold\", \"National Rank\"]"
   ]
  },
  {
   "cell_type": "code",
   "execution_count": null,
   "id": "fa67711d-6223-4b30-979d-77352a91c684",
   "metadata": {
    "pycharm": {
     "name": "#%%\n",
     "is_executing": true
    }
   },
   "outputs": [],
   "source": [
    "avg_income['Population'] = avg_income['Population'].astype('int')"
   ]
  },
  {
   "cell_type": "code",
   "execution_count": null,
   "id": "eff8b4bc-f52a-49ae-a22b-491b4baf79c0",
   "metadata": {
    "pycharm": {
     "name": "#%%\n",
     "is_executing": true
    }
   },
   "outputs": [],
   "source": [
    "avg_income['Avg. Income/H/hold'] =  avg_income['Avg. Income/H/hold'].astype('int')"
   ]
  },
  {
   "cell_type": "code",
   "execution_count": null,
   "id": "a3ac3a8c-2509-4c01-86e7-a2c29a4e3dd1",
   "metadata": {
    "pycharm": {
     "name": "#%%\n",
     "is_executing": true
    }
   },
   "outputs": [],
   "source": [
    "import re\n",
    "avg_income['National Rank'] = avg_income['National Rank'].apply(lambda x: int(re.sub(r'[^\\w\\s]', '', x)))"
   ]
  },
  {
   "cell_type": "code",
   "execution_count": null,
   "id": "7991b848-47fc-4e93-b68b-818a0f2b81f6",
   "metadata": {
    "pycharm": {
     "name": "#%%\n",
     "is_executing": true
    }
   },
   "outputs": [],
   "source": [
    "avg_income['Location'] = avg_income['Location'].apply(lambda x: x[:9] + ',' +  x[11:])"
   ]
  },
  {
   "cell_type": "code",
   "execution_count": null,
   "id": "d9367b80-6b8c-42f3-9de6-bc24a4759129",
   "metadata": {
    "pycharm": {
     "name": "#%%\n",
     "is_executing": true
    }
   },
   "outputs": [],
   "source": [
    "incomes = []\n",
    "\n",
    "for income in avg_income[\"Location\"]:\n",
    "    incomes.append((float(income[:8]), float(income[11:])))\n",
    "    \n",
    "for income, index in zip(incomes, range(len(avg_income['Location']))):\n",
    "        avg_income['Location'][index] = income "
   ]
  },
  {
   "cell_type": "code",
   "execution_count": null,
   "id": "52ca3484-f16a-4dbb-880b-c84dc158684d",
   "metadata": {
    "pycharm": {
     "name": "#%%\n",
     "is_executing": true
    }
   },
   "outputs": [],
   "source": [
    "type(avg_income.Location[0])"
   ]
  },
  {
   "cell_type": "code",
   "execution_count": null,
   "id": "0c94ad16-772c-489c-979f-6332105e450c",
   "metadata": {
    "pycharm": {
     "name": "#%%\n",
     "is_executing": true
    }
   },
   "outputs": [],
   "source": [
    "homes = pd.read_excel(\"..\\\\data\\\\king_county_home_sales.xlsx\", index_col = \"Unnamed: 0\")\n"
   ]
  },
  {
   "cell_type": "code",
   "execution_count": null,
   "id": "45126d22-6663-48ca-ad49-13413e816b9f",
   "metadata": {
    "pycharm": {
     "name": "#%%\n",
     "is_executing": true
    }
   },
   "outputs": [],
   "source": [
    "homes.head(2)"
   ]
  },
  {
   "cell_type": "code",
   "execution_count": null,
   "id": "95d6af03",
   "metadata": {
    "pycharm": {
     "name": "#%%\n",
     "is_executing": true
    }
   },
   "outputs": [],
   "source": [
    "len(homes.zipcode.unique())"
   ]
  },
  {
   "cell_type": "code",
   "execution_count": null,
   "id": "2a511e73-4b41-4340-a78e-33f3d6d56a03",
   "metadata": {
    "pycharm": {
     "name": "#%%\n",
     "is_executing": true
    }
   },
   "outputs": [],
   "source": [
    "homes.columns"
   ]
  },
  {
   "cell_type": "code",
   "execution_count": null,
   "id": "416e32f3-a3a6-4e53-9358-d999c0501299",
   "metadata": {
    "pycharm": {
     "name": "#%%\n",
     "is_executing": true
    }
   },
   "outputs": [],
   "source": [
    "homes_and_income = homes.merge(avg_income, on = \"zipcode\")"
   ]
  },
  {
   "cell_type": "code",
   "execution_count": null,
   "id": "2c4d0b2c-04b1-4eb7-9a79-cd4bbf6ce989",
   "metadata": {
    "pycharm": {
     "name": "#%%\n",
     "is_executing": true
    }
   },
   "outputs": [],
   "source": [
    "fig, ax = plt.subplots(figsize=(15,10))\n",
    "\n",
    "sns.heatmap(homes_and_income.drop(columns = [\"id\", \"age\", \"distance_to_amazon_miles\", \"distance_to_needle_miles\", \"National Rank\"]).corr().iloc[0:1, 1:].T.sort_values(by = 'price', ascending= False), center = 0, cmap = \"coolwarm\", annot=True, linewidths=.25, fmt = \".03f\", ax=ax)\n",
    "ax.set_title('Features Used in Best Model Correlated with Price')\n",
    "ax.set_ylabel('Model Features')\n",
    "ax.set_xlabel('Correlation Values')\n",
    "plt.tight_layout()\n"
   ]
  },
  {
   "cell_type": "code",
   "execution_count": null,
   "id": "67003f8b-815f-4d93-a093-b50ba3aeaf39",
   "metadata": {
    "pycharm": {
     "name": "#%%\n",
     "is_executing": true
    }
   },
   "outputs": [],
   "source": [
    "dummy_zip = pd.get_dummies(homes_and_income['zipcode'], drop_first = True)"
   ]
  },
  {
   "cell_type": "code",
   "execution_count": null,
   "id": "c970a4cf",
   "metadata": {
    "pycharm": {
     "name": "#%%\n",
     "is_executing": true
    }
   },
   "outputs": [],
   "source": [
    "dummy_zip"
   ]
  },
  {
   "cell_type": "code",
   "execution_count": null,
   "id": "a0ee3ef3-c0e9-460b-b0ad-10c3170e88c4",
   "metadata": {
    "jupyter": {
     "outputs_hidden": false
    },
    "pycharm": {
     "name": "#%%\n",
     "is_executing": true
    }
   },
   "outputs": [],
   "source": [
    "features = homes_and_income[['bedrooms', 'bathrooms', 'sqft_living',\n",
    "                 'sqft_lot', 'floors', 'waterfront', 'sqft_above', 'lat', 'long',\n",
    "                 'sqft_basement', 'sqft_living15', 'sqft_lot15', 'view_ord', 'condition_ord', 'grade_ord', \n",
    "                 'age', \"renovated\", \"distance_to_amazon_miles\", 'Population', 'Avg. Income/H/hold', 'National Rank']]"
   ]
  },
  {
   "cell_type": "code",
   "execution_count": null,
   "id": "c46e146e-bfd8-4ece-abde-0a516cefd285",
   "metadata": {
    "pycharm": {
     "name": "#%%\n",
     "is_executing": true
    }
   },
   "outputs": [],
   "source": [
    "features = features.join(dummy_zip)"
   ]
  },
  {
   "cell_type": "code",
   "execution_count": null,
   "id": "8a9b9963",
   "metadata": {
    "pycharm": {
     "name": "#%%\n",
     "is_executing": true
    }
   },
   "outputs": [],
   "source": [
    "features"
   ]
  },
  {
   "cell_type": "code",
   "execution_count": null,
   "id": "753e6964-db3a-4b39-ac6d-ea848ca3f86a",
   "metadata": {
    "jupyter": {
     "outputs_hidden": false
    },
    "pycharm": {
     "name": "#%%\n",
     "is_executing": true
    }
   },
   "outputs": [],
   "source": [
    "X, y = features, homes_and_income[['price']]\n",
    "\n",
    "# Generate train/test sets\n",
    "X_train, X_test, y_train, y_test = train_test_split(\n",
    "    X, y, test_size=.3, random_state=42\n",
    ")\n",
    "\n",
    "\n",
    "# Init, fit, score\n",
    "multi_model = LinearRegression()\n",
    "multi_model.fit(X_train, y_train)\n",
    "\n",
    "print(f\"Training score: {multi_model.score(X_train, y_train)}\")\n",
    "multi_model_score = multi_model.score(X_test, y_test)\n",
    "print(f\"Test score: {multi_model.score(X_test, y_test)}\")"
   ]
  },
  {
   "cell_type": "code",
   "execution_count": null,
   "id": "696144fa-df3e-4586-8cb6-8b4ddb3bfd71",
   "metadata": {
    "pycharm": {
     "name": "#%%\n",
     "is_executing": true
    }
   },
   "outputs": [],
   "source": [
    "def correlated_column_names(df, target, threshold):\n",
    "    # this function returns the a list of the names of columns with greater than a certain threshold of correlation. \n",
    "    index_columns = df.corr()[target][(df.corr()[target] >= threshold) & (df.corr()[target] != 1) ].index # this gets an index object\n",
    "    columns = [index for index in index_columns] # this creates a list with column names \n",
    "    return(columns)\n",
    "\n",
    "\n",
    "features = homes_and_income[correlated_column_names(homes_and_income, 'price', .1 )]\n",
    "features.columns"
   ]
  },
  {
   "cell_type": "code",
   "execution_count": null,
   "id": "3fa94676-7e87-4090-b9c2-b24d38a0b8e2",
   "metadata": {
    "pycharm": {
     "name": "#%%\n",
     "is_executing": true
    }
   },
   "outputs": [],
   "source": [
    "features = features.join(dummy_zip)"
   ]
  },
  {
   "cell_type": "code",
   "execution_count": null,
   "id": "ab9eaf12",
   "metadata": {
    "pycharm": {
     "name": "#%%\n",
     "is_executing": true
    }
   },
   "outputs": [],
   "source": [
    "features"
   ]
  },
  {
   "cell_type": "code",
   "execution_count": null,
   "id": "0bf30ed3-a696-411e-99c6-c2563275f93d",
   "metadata": {
    "jupyter": {
     "outputs_hidden": false
    },
    "pycharm": {
     "name": "#%%\n",
     "is_executing": true
    }
   },
   "outputs": [],
   "source": [
    "X, y = features, homes_and_income[['price']]\n",
    "\n",
    "# Generate train/test sets\n",
    "X_train, X_test, y_train, y_test = train_test_split(\n",
    "    X, y, test_size=.3, random_state=42\n",
    ")\n",
    "\n",
    "\n",
    "# Init, fit, score\n",
    "multi_model = LinearRegression()\n",
    "multi_model.fit(X_train, y_train)\n",
    "\n",
    "print(f\"Training score: {multi_model.score(X_train, y_train)}\")\n",
    "multi_model_score = multi_model.score(X_test, y_test)\n",
    "print(f\"Test score: {multi_model.score(X_test, y_test)}\")"
   ]
  },
  {
   "cell_type": "code",
   "execution_count": null,
   "id": "3e3f4d9e",
   "metadata": {
    "pycharm": {
     "name": "#%%\n",
     "is_executing": true
    }
   },
   "outputs": [],
   "source": [
    "df = homes_and_income.groupby('zipcode')['price', 'Avg. Income/H/hold'].mean()"
   ]
  },
  {
   "cell_type": "code",
   "execution_count": null,
   "id": "4e124c46",
   "metadata": {
    "pycharm": {
     "name": "#%%\n",
     "is_executing": true
    }
   },
   "outputs": [],
   "source": [
    "# plot fit\n",
    "\n",
    "plt.scatter(df['Avg. Income/H/hold'], df.price, alpha=0.7, color= \"red\")\n",
    "plt.title(\" Average price of a home as a function of average income \")\n",
    "plt.xlabel(\"Average Income\")\n",
    "plt.ylabel(\"Average Sales Price\")\n",
    "plt.tight_layout()\n",
    "plt.show()"
   ]
  },
  {
   "cell_type": "code",
   "execution_count": null,
   "id": "6b15bb14",
   "metadata": {
    "pycharm": {
     "name": "#%%\n",
     "is_executing": true
    }
   },
   "outputs": [],
   "source": [
    "homes_and_income"
   ]
  },
  {
   "cell_type": "code",
   "execution_count": null,
   "id": "8cfe472f",
   "metadata": {
    "pycharm": {
     "name": "#%%\n",
     "is_executing": true
    }
   },
   "outputs": [],
   "source": [
    "homes_and_income.columns"
   ]
  },
  {
   "cell_type": "code",
   "execution_count": null,
   "id": "afba6aef",
   "metadata": {
    "pycharm": {
     "name": "#%%\n",
     "is_executing": true
    }
   },
   "outputs": [],
   "source": [
    "for col in ['bedrooms', 'bathrooms', 'sqft_living',\n",
    "'sqft_lot', 'floors', 'waterfront', 'sqft_above', 'sqft_basement', 'sqft_living15',\n",
    "'sqft_lot15', 'view_ord', 'condition_ord', 'grade_ord',\n",
    "'age', 'distance_to_starbucks_miles',\n",
    "'distance_to_amazon_miles', 'distance_to_needle_miles', 'Population', 'Avg. Income/H/hold', 'National Rank']:\n",
    "    sns.scatterplot(data=homes_and_income, x = col,  y=\"price\", color = \"red\" )\n",
    "    plt.title(f\"Average price of a home as a function of {col} \")\n",
    "    plt.xlabel(f\"{col}\")\n",
    "    plt.ylabel(f\"Sales Pricea\")\n",
    "    plt.tight_layout()\n",
    "    plt.show()"
   ]
  },
  {
   "cell_type": "markdown",
   "id": "bdda96cb-66bb-4cf7-9fd5-b87388839f0b",
   "metadata": {
    "pycharm": {
     "name": "#%% md\n"
    }
   },
   "source": [
    "# Now its time to do the dependencies of our new dataset"
   ]
  },
  {
   "cell_type": "code",
   "execution_count": null,
   "id": "77611576",
   "metadata": {
    "pycharm": {
     "name": "#%%\n",
     "is_executing": true
    }
   },
   "outputs": [],
   "source": [
    "#list(homes_and_income.loc[homes_and_income.price > 5000000].index.values)\n",
    "homes_and_income.drop(index = list(homes_and_income.loc[homes_and_income.price > 5000000].index.values), inplace = True)"
   ]
  },
  {
   "cell_type": "code",
   "execution_count": null,
   "id": "5c42a41f",
   "metadata": {
    "pycharm": {
     "name": "#%%\n",
     "is_executing": true
    }
   },
   "outputs": [],
   "source": [
    "#homes_and_income.to_excel(\"sale_price_and_income.xlsx\")"
   ]
  },
  {
   "cell_type": "code",
   "execution_count": null,
   "id": "4b36df6d-9ce7-4db9-b511-81f2fc5aa4a2",
   "metadata": {
    "pycharm": {
     "name": "#%%\n",
     "is_executing": true
    }
   },
   "outputs": [],
   "source": [
    "y = homes_and_income['price']\n",
    "X = homes_and_income[['bedrooms', 'bathrooms', 'sqft_living', 'floors', 'waterfront',\n",
    "       'sqft_above', 'sqft_basement', 'yr_renovated', 'lat', 'sqft_living15',\n",
    "       'renovated', 'view_ord', 'grade_ord', 'Avg. Income/H/hold']]\n",
    "\n",
    "\n",
    "linear_with_interaction = PolynomialFeatures(degree = 1, interaction_only = True, include_bias = False)\n",
    "\n",
    "X_transformed = linear_with_interaction.fit_transform(X)\n",
    "\n",
    "feat_names = pd.Series(linear_with_interaction.get_feature_names())\n",
    "\n",
    "feat_names"
   ]
  },
  {
   "cell_type": "code",
   "execution_count": null,
   "id": "47921e90-b233-4446-88d6-9ba4b6030a04",
   "metadata": {
    "jupyter": {
     "outputs_hidden": false
    },
    "pycharm": {
     "name": "#%%\n",
     "is_executing": true
    }
   },
   "outputs": [],
   "source": [
    "xs = ['x0', 'x1', 'x2', 'x3', 'x4', 'x5', 'x6', 'x7', 'x8', 'x9', 'x10',  'x11', 'x12', 'x13']\n",
    "\n",
    "columns = X.columns\n",
    "\n",
    "map_dict = {x:y for x,y in zip(xs, columns)}\n",
    "\n",
    "for key, value in map_dict.items():\n",
    "    feat_names = feat_names.str.replace(key, value)\n",
    "\n",
    "\n",
    "income_trans = pd.DataFrame(X_transformed)\n",
    "\n",
    "income_trans.columns = feat_names\n",
    "\n",
    "income_trans = income_trans.join(dummy_zip)"
   ]
  },
  {
   "cell_type": "code",
   "execution_count": null,
   "id": "a97b7aca-353a-47da-bb12-61815169888c",
   "metadata": {
    "jupyter": {
     "outputs_hidden": false
    },
    "pycharm": {
     "name": "#%%\n",
     "is_executing": true
    }
   },
   "outputs": [],
   "source": [
    "# Generate train/test sets\n",
    "\n",
    "X_train, X_test, y_train, y_test = train_test_split(\n",
    "    income_trans, np.log(y), test_size=.3, random_state=42\n",
    ")\n",
    "\n",
    "\n",
    "# Init, fit, score\n",
    "interactions_model = LinearRegression()\n",
    "interactions_model.fit(X_train, y_train)\n",
    "\n",
    "print(f\"Training score: {interactions_model.score(X_train, y_train)}\")\n",
    "\n",
    "print(f\"Testing score: {interactions_model.score(X_test, y_test)}\")\n",
    "\n",
    "interactions_model_score  = interactions_model.score(X_test, y_test)"
   ]
  },
  {
   "cell_type": "code",
   "execution_count": null,
   "outputs": [],
   "source": [
    "#import joblib\n",
    "\n",
    "### Save our model, This will generate .pkl file in your currentl dircetroy, your model is ready to use.\n",
    "#joblib.dump(interactions_model,\"house_price_prediction.pkl\")"
   ],
   "metadata": {
    "collapsed": false,
    "pycharm": {
     "name": "#%%\n",
     "is_executing": true
    }
   }
  },
  {
   "cell_type": "markdown",
   "id": "2b53d169-b6d3-4e2e-96f0-5e2e724de06e",
   "metadata": {
    "pycharm": {
     "name": "#%% md\n"
    },
    "tags": []
   },
   "source": [
    "# Now its time to visualize our result!"
   ]
  },
  {
   "cell_type": "code",
   "execution_count": null,
   "id": "de49beb5-8e45-440d-9ccd-fb25f8022d3d",
   "metadata": {
    "pycharm": {
     "name": "#%%\n",
     "is_executing": true
    }
   },
   "outputs": [],
   "source": [
    "X = income_trans\n",
    "y = np.log(homes_and_income['price'])\n",
    "y_pred = interactions_model.predict(income_trans)\n",
    "\n",
    "fig = px.scatter(x=np.exp(y), y=np.exp(y_pred), labels={'x': 'True Sales Price', 'y': 'Predicted Sales Price'}, title = f\"Predict Home Sale Price in King County with {len(income_trans.columns)}: R^2 = {interactions_model_score:.05f}\")\n",
    "\n",
    "fig.add_shape(\n",
    "    type=\"line\", line=dict(dash='dash'),\n",
    "    x0=np.exp(y.min()), y0=np.exp(y.min()),\n",
    "    x1=np.exp(y.max()), y1= np.exp(y.max())\n",
    ")\n",
    "\n",
    "\n",
    "import dash\n",
    "import json\n",
    "import dash_core_components as dcc\n",
    "import dash_html_components as html\n",
    "from dash.dependencies import Output, Input\n",
    "\n",
    "cache = \"fig.json\"\n",
    "# Construct a figure object and save it as json.\n",
    "\n",
    "with open(cache, 'w') as f:\n",
    "    f.write(fig.to_json())\n",
    "\n",
    "# Create example app.\n",
    "app = dash.Dash(prevent_initial_callbacks=True)\n",
    "app.layout = html.Div([dcc.Graph(id=\"graph\"), html.Button(\"Click me\", id=\"btn\")])\n",
    "\n",
    "\n",
    "@app.callback(Output(\"graph\", \"figure\"), [Input(\"btn\", \"n_clicks\")])\n",
    "def func(n_clicks):\n",
    "    with open(cache, 'r') as f:\n",
    "        return json.load(f)\n",
    "\n",
    "\n",
    "if __name__ == '__main__':\n",
    "    app.run_server()\n",
    "\n",
    "fig.show()\n",
    "\n"
   ]
  },
  {
   "cell_type": "code",
   "execution_count": null,
   "id": "988caadb",
   "metadata": {
    "pycharm": {
     "name": "#%%\n",
     "is_executing": true
    }
   },
   "outputs": [],
   "source": [
    "# colors = ['Positive' if c > 0 else 'Negative' for c in interactions_model.coef_]\n",
    "#\n",
    "# fig = px.bar(\n",
    "#     x=income_trans.columns, y=interactions_model.coef_, color=colors,\n",
    "#     color_discrete_sequence=['red', 'blue'],\n",
    "#     labels=dict(x='Feature', y='Linear coefficient'),\n",
    "#     title='Weight of each feature for predicting petal width'\n",
    "# )\n",
    "# fig.show()"
   ]
  },
  {
   "cell_type": "markdown",
   "id": "2e5e7eb2",
   "metadata": {
    "pycharm": {
     "name": "#%% md\n"
    }
   },
   "source": []
  },
  {
   "cell_type": "markdown",
   "id": "64ffba38",
   "metadata": {
    "pycharm": {
     "name": "#%% md\n"
    }
   },
   "source": [
    "# Splitting our Data to see how budget tier effects our R^2 Score"
   ]
  },
  {
   "cell_type": "code",
   "execution_count": null,
   "id": "49dc8bef",
   "metadata": {
    "pycharm": {
     "name": "#%%\n",
     "is_executing": true
    }
   },
   "outputs": [],
   "source": [
    "low = homes_and_income.loc[homes_and_income.price <= 1000000]\n",
    "\n",
    "\n",
    "high = homes_and_income.loc[(homes_and_income.price > 1000000) ]"
   ]
  },
  {
   "cell_type": "code",
   "execution_count": null,
   "id": "5ac448e4",
   "metadata": {
    "pycharm": {
     "name": "#%%\n",
     "is_executing": true
    }
   },
   "outputs": [],
   "source": [
    "home_groups = [low, high]"
   ]
  },
  {
   "cell_type": "code",
   "execution_count": null,
   "id": "8bb47878",
   "metadata": {
    "pycharm": {
     "name": "#%%\n",
     "is_executing": true
    }
   },
   "outputs": [],
   "source": [
    "for tier in home_groups:\n",
    "    y = tier['price']\n",
    "    X = tier[['bedrooms', 'bathrooms', 'sqft_living', 'floors', 'waterfront',\n",
    "                          'sqft_above', 'sqft_basement', 'yr_renovated', 'lat', 'sqft_living15',\n",
    "                          'renovated', 'view_ord', 'grade_ord', 'Avg. Income/H/hold']]\n",
    "\n",
    "\n",
    "    linear_with_interaction = PolynomialFeatures(degree=2, interaction_only=True, include_bias=False)\n",
    "\n",
    "    X_transformed = linear_with_interaction.fit_transform(X)\n",
    "\n",
    "    feat_names = pd.Series(linear_with_interaction.get_feature_names())\n",
    "\n",
    "    feat_names\n",
    "    xs = ['x0', 'x1', 'x2', 'x3', 'x4', 'x5', 'x6', 'x7', 'x8', 'x9', 'x10', 'x11', 'x12', 'x13']\n",
    "\n",
    "    columns = X.columns\n",
    "\n",
    "    map_dict = {x: y for x, y in zip(xs, columns)}\n",
    "\n",
    "    for key, value in map_dict.items():\n",
    "        feat_names = feat_names.str.replace(key, value)\n",
    "\n",
    "    income_trans = pd.DataFrame(X_transformed)\n",
    "\n",
    "    income_trans.columns = feat_names\n",
    "\n",
    "    income_trans = income_trans.join(dummy_zip)\n",
    "    # Generate train/test sets\n",
    "\n",
    "    X_train, X_test, y_train, y_test = train_test_split(\n",
    "        income_trans, y, test_size=.3, random_state=42\n",
    "    )\n",
    "\n",
    "    # Init, fit, score\n",
    "    interactions_model = LinearRegression()\n",
    "    interactions_model.fit(X_train, y_train)\n",
    "\n",
    "    print(f\"Training score: {interactions_model.score(X_train, y_train)}\")\n",
    "\n",
    "    print(f\"Testing score: {interactions_model.score(X_test, y_test)}\")\n",
    "\n",
    "    interactions_model_score = interactions_model.score(X_test, y_test)\n",
    "    # Now its time to visualize our beautiful result!\n",
    "\n",
    "    X = income_trans\n",
    "    y = tier['price']\n",
    "    y_pred = interactions_model.predict(income_trans)\n",
    "\n",
    "    fig = px.scatter(x=y, y=y_pred, labels={'x': 'ground truth', 'y': 'prediction'},\n",
    "                     title=f\"Multi-Regression Model to Predict Home Sale Price in King County: R^2 = {interactions_model_score:.05f}\")\n",
    "    fig.add_shape(\n",
    "        type=\"line\", line=dict(dash='dash'),\n",
    "        x0=y.min(), y0=y.min(),\n",
    "        x1=y.max(), y1=y.max()\n",
    "    )\n",
    "\n",
    "    fig.show()"
   ]
  }
 ],
 "metadata": {
  "kernelspec": {
   "display_name": "Python 3 (ipykernel)",
   "language": "python",
   "name": "python3"
  },
  "language_info": {
   "codemirror_mode": {
    "name": "ipython",
    "version": 3
   },
   "file_extension": ".py",
   "mimetype": "text/x-python",
   "name": "python",
   "nbconvert_exporter": "python",
   "pygments_lexer": "ipython3",
   "version": "3.8.12"
  }
 },
 "nbformat": 4,
 "nbformat_minor": 5
}