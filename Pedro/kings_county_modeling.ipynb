{
 "cells": [
  {
   "cell_type": "code",
   "execution_count": 22,
   "metadata": {
    "collapsed": true,
    "pycharm": {
     "name": "#%%\n"
    }
   },
   "outputs": [],
   "source": [
    "import matplotlib.pyplot as plt\n",
    "import numpy as np\n",
    "import pandas as pd\n",
    "import seaborn as sns\n",
    "from   sklearn.linear_model import LinearRegression\n",
    "from   sklearn.model_selection import train_test_split\n",
    "\n",
    "\n",
    "%matplotlib inline\n",
    "plt.rcParams['figure.figsize'] = (12.0, 8.0)\n",
    "plt.style.use('seaborn-poster')"
   ]
  },
  {
   "cell_type": "code",
   "execution_count": null,
   "outputs": [],
   "source": [
    "king = pd.read_excel(\"..\\data\\king_county_home_sales.xlsx\", index_col= \"Unnamed: 0\" )\n",
    "king.sample(10)"
   ],
   "metadata": {
    "collapsed": false,
    "pycharm": {
     "name": "#%%\n",
     "is_executing": true
    }
   }
  },
  {
   "cell_type": "markdown",
   "source": [
    "Here is a first attempt at a simple linear regression model using the sqft_living room of a home to model"
   ],
   "metadata": {
    "collapsed": false,
    "pycharm": {
     "name": "#%% md\n"
    }
   }
  },
  {
   "cell_type": "code",
   "execution_count": null,
   "outputs": [],
   "source": [
    "# price as a function of sqfr_living room, this is just a pedigocial tool and will serve as a basis\n",
    "\n",
    "\n",
    "X, y = king[['sqft_living']] , king[['price']]\n",
    "\n",
    "# Generate train/test sets\n",
    "X_train, X_test, y_train, y_test = train_test_split(\n",
    "    X, y, test_size=.3, random_state=42\n",
    ")\n",
    "\n",
    "# Init, fit, score\n",
    "model = LinearRegression()\n",
    "model.fit(X_train, y_train)\n",
    "\n",
    "print(f\"Training score: {model.score(X_train, y_train)}\")\n",
    "\n",
    "print(f\"Test score: {model.score(X, y)}\")\n"
   ],
   "metadata": {
    "collapsed": false,
    "pycharm": {
     "name": "#%%\n",
     "is_executing": true
    }
   }
  },
  {
   "cell_type": "code",
   "execution_count": null,
   "outputs": [],
   "source": [
    "# plot fit\n",
    "plt.scatter(king.sqft_living, king.price, alpha=0.3)\n",
    "plt.plot(king.sqft_living, model.predict(king[['sqft_living']]), c='darkorange')\n",
    "plt.title(\"Squarefoot Living Room ~ Price\")\n",
    "plt.xlabel(\"Squart Footage\")\n",
    "plt.ylabel(\"Sales Price\")\n",
    "plt.tight_layout()\n",
    "plt.show()"
   ],
   "metadata": {
    "collapsed": false,
    "pycharm": {
     "name": "#%%\n",
     "is_executing": true
    }
   }
  },
  {
   "cell_type": "markdown",
   "source": [
    "Now it is time for a multi linear regression:"
   ],
   "metadata": {
    "collapsed": false,
    "pycharm": {
     "name": "#%% md\n"
    }
   }
  },
  {
   "cell_type": "code",
   "execution_count": null,
   "outputs": [],
   "source": [
    "king.columns # calling all columns in order to determine what subset of columns we will use for our models\n",
    "features = king[['bedrooms', 'bathrooms', 'sqft_living',\n",
    "                 'sqft_lot', 'floors', 'waterfront', 'sqft_above',\n",
    "                 'sqft_basement', 'lat', 'long', 'sqft_living15',\n",
    "                 'sqft_lot15', 'view_ord', 'condition_ord', 'grade_ord', 'age', \"renovated\"]]"
   ],
   "metadata": {
    "collapsed": false,
    "pycharm": {
     "name": "#%%\n",
     "is_executing": true
    }
   }
  },
  {
   "cell_type": "code",
   "execution_count": null,
   "outputs": [],
   "source": [
    "# mulit model time: (all ~ price) decided to use every column here except for yr_built since this column and age are redundant and zipcode since it is an arbitraruy number not relevant to our dataframe yet.\n",
    "\n",
    "X, y = features, king[['price']]\n",
    "\n",
    "# Generate train/test sets\n",
    "X_train, X_test, y_train, y_test = train_test_split(\n",
    "    X, y, test_size=.3, random_state=42\n",
    ")\n",
    "\n",
    "\n",
    "# Init, fit, score\n",
    "multi_model = LinearRegression()\n",
    "multi_model.fit(X_train, y_train)\n",
    "\n",
    "print(f\"Training score: {multi_model.score(X_train, y_train)}\")\n",
    "multi_model_score = multi_model.score(X_test, y_test)\n",
    "print(f\"Test score: {multi_model.score(X_test, y_test)}\")"
   ],
   "metadata": {
    "collapsed": false,
    "pycharm": {
     "name": "#%%\n",
     "is_executing": true
    }
   }
  },
  {
   "cell_type": "markdown",
   "source": [
    "An r^2 score of 0.68 isn't bad but it isn't great either. Maybe we have some collinearity issues going on and we need to be more selective about our features. So its time to do some feature selection"
   ],
   "metadata": {
    "collapsed": false,
    "pycharm": {
     "name": "#%% md\n"
    }
   }
  },
  {
   "cell_type": "code",
   "execution_count": null,
   "outputs": [],
   "source": [
    "def identify_correlated(df, threshold):\n",
    "    \"\"\"\n",
    "    A function to identify highly correlated features.\n",
    "    \"\"\"\n",
    "    # Compute correlation matrix with absolute values\n",
    "    matrix = df.corr().abs()\n",
    "\n",
    "    # Create a boolean mask\n",
    "    mask = np.triu(np.ones_like(matrix, dtype=bool))\n",
    "\n",
    "    # Subset the matrix\n",
    "    reduced_matrix = matrix.mask(mask)\n",
    "\n",
    "    # Find cols that meet the threshold\n",
    "    to_drop = [c for c in reduced_matrix.columns if \\\n",
    "              any(reduced_matrix[c] > threshold)]\n",
    "\n",
    "    return to_drop\n",
    "\n",
    "# Thanks to this towards data science for this function: https://towardsdatascience.com/how-to-use-pairwise-correlation-for-robust-feature-selection-20a60ef7d10"
   ],
   "metadata": {
    "collapsed": false,
    "pycharm": {
     "name": "#%%\n",
     "is_executing": true
    }
   }
  },
  {
   "cell_type": "code",
   "execution_count": null,
   "outputs": [],
   "source": [
    "to_drop = identify_correlated(king, .7) #proceeding with dropping these features that are highly correlated\n",
    "\n",
    "to_drop"
   ],
   "metadata": {
    "collapsed": false,
    "pycharm": {
     "name": "#%%\n",
     "is_executing": true
    }
   }
  },
  {
   "cell_type": "code",
   "execution_count": null,
   "outputs": [],
   "source": [
    "# Build feature/target arrays\n",
    "X, y = king[['bedrooms','sqft_lot', 'floors', 'waterfront',\n",
    "             'sqft_basement', 'sqft_living15',\n",
    "             'sqft_lot15', 'view_ord', 'condition_ord', 'grade_ord', 'age', \"renovated\"]] , king[['price']]\n",
    "\n",
    "# Generate train/test sets\n",
    "X_train, X_test, y_train, y_test = train_test_split(\n",
    "    X, y, test_size=.3, random_state=42\n",
    ")\n",
    "\n",
    "\n",
    "# Init, fit, score\n",
    "multi_model_red = LinearRegression()\n",
    "multi_model_red.fit(X_train, y_train)\n",
    "\n",
    "print(f\"Training score: {multi_model_red.score(X_train, y_train)}\")\n",
    "multi_model_score_red = multi_model_red.score(X_test, y_test)\n",
    "print(f\"Test score: {multi_model_red.score(X_test, y_test)}\")\n",
    "\n",
    "print(f\"\\nOur r^2 score was {multi_model_score:.04f} and our new reduced score is {multi_model_score_red:.04f} this is a large decrease in r^2 after removing features that are collinear, so lets go back to our original model with all the features.\")"
   ],
   "metadata": {
    "collapsed": false,
    "pycharm": {
     "name": "#%%\n",
     "is_executing": true
    }
   }
  },
  {
   "cell_type": "markdown",
   "source": [
    "So how should we proceed from here? One step is to calculate the interactions between different features."
   ],
   "metadata": {
    "collapsed": false,
    "pycharm": {
     "name": "#%% md\n"
    }
   }
  },
  {
   "cell_type": "code",
   "execution_count": null,
   "outputs": [],
   "source": [
    "king.columns"
   ],
   "metadata": {
    "collapsed": false,
    "pycharm": {
     "name": "#%%\n",
     "is_executing": true
    }
   }
  },
  {
   "cell_type": "code",
   "execution_count": null,
   "outputs": [],
   "source": [
    "y = king['price']\n",
    "X = king[['bedrooms', 'bathrooms', 'sqft_living', 'sqft_lot', 'floors', 'waterfront',\n",
    "          'sqft_above', 'sqft_basement','lat', 'long', 'zipcode',\n",
    "          'sqft_living15', 'sqft_lot15', 'renovated', 'view_ord', 'condition_ord', 'grade_ord', 'age']]\n",
    "\n",
    "from sklearn.preprocessing import PolynomialFeatures\n",
    "\n",
    "linear_withinteraction = PolynomialFeatures(degree = 2, interaction_only = True, include_bias = False)\n",
    "\n",
    "X_transformed = linear_withinteraction.fit_transform(X.drop(columns= 'zipcode')) #removing zipcode column this will become evident latter when we dummy our zip code\n",
    "\n",
    "feat_names = pd.Series(linear_withinteraction.get_feature_names())\n",
    "\n",
    "feat_names"
   ],
   "metadata": {
    "collapsed": false,
    "pycharm": {
     "name": "#%%\n",
     "is_executing": true
    }
   }
  },
  {
   "cell_type": "code",
   "execution_count": null,
   "outputs": [],
   "source": [
    "xs = ['x0', 'x1', 'x2', 'x3', 'x4', 'x5', 'x6', 'x7', 'x8', 'x9', 'x10',  'x11', 'x12', 'x13', 'x14', 'x15','x16']\n",
    "\n",
    "columns = X.columns\n",
    "\n",
    "map_dict = {x:y for x,y in zip(xs, columns)}\n",
    "\n",
    "for key, value in map_dict.items():\n",
    "    feat_names = feat_names.str.replace(key, value)\n",
    "\n",
    "\n",
    "X_trans_df = pd.DataFrame(X_transformed)\n",
    "X_trans_df.columns = feat_names\n",
    "\n",
    "X_trans_df.head()"
   ],
   "metadata": {
    "collapsed": false,
    "pycharm": {
     "name": "#%%\n",
     "is_executing": true
    }
   }
  },
  {
   "cell_type": "code",
   "execution_count": null,
   "outputs": [],
   "source": [
    "# X_trans_standard = X_trans_df.apply(lambda x: (x - x.mean())/x.std() )\n",
    "# y_standard = (y - y.mean())/y.std()"
   ],
   "metadata": {
    "collapsed": false,
    "pycharm": {
     "name": "#%%\n",
     "is_executing": true
    }
   }
  },
  {
   "cell_type": "code",
   "execution_count": null,
   "outputs": [],
   "source": [
    "# Generate train/test sets\n",
    "X_train, X_test, y_train, y_test = train_test_split(\n",
    "    X_trans_df, y, test_size=.3, random_state=42\n",
    ")\n",
    "\n",
    "\n",
    "# Init, fit, score\n",
    "stand_model = LinearRegression()\n",
    "stand_model.fit(X_train, y_train)\n",
    "\n",
    "print(f\"Training score: {stand_model.score(X_train, y_train)}\")\n",
    "\n",
    "print(f\"Testing score: {stand_model.score(X_test, y_test)}\")\n",
    "\n",
    "stand_model_score  = stand_model.score(X_test, y_test)"
   ],
   "metadata": {
    "collapsed": false,
    "pycharm": {
     "name": "#%%\n",
     "is_executing": true
    }
   }
  },
  {
   "cell_type": "markdown",
   "source": [
    "Now one last model except now with zip code as a dummied feature instead of as an integer value!"
   ],
   "metadata": {
    "collapsed": false,
    "pycharm": {
     "name": "#%% md\n"
    }
   }
  },
  {
   "cell_type": "code",
   "execution_count": null,
   "outputs": [],
   "source": [
    "dummy_zip = pd.get_dummies(king['zipcode'], drop_first = True)"
   ],
   "metadata": {
    "collapsed": false,
    "pycharm": {
     "name": "#%%\n",
     "is_executing": true
    }
   }
  },
  {
   "cell_type": "markdown",
   "source": [
    "One more model with all of our features alongside dummied zip code data."
   ],
   "metadata": {
    "collapsed": false,
    "pycharm": {
     "name": "#%% md\n"
    }
   }
  },
  {
   "cell_type": "code",
   "execution_count": null,
   "outputs": [],
   "source": [
    "king.columns # calling all columns in order to determine what subset of columns we will use for our models\n",
    "features = king[['bedrooms', 'bathrooms', 'sqft_living',\n",
    "                 'sqft_lot', 'floors', 'waterfront', 'sqft_above',\n",
    "                 'sqft_basement', 'sqft_living15', 'lat', 'long',\n",
    "                 'sqft_lot15', 'view_ord', 'condition_ord', 'grade_ord', 'age', \"renovated\"]]"
   ],
   "metadata": {
    "collapsed": false,
    "pycharm": {
     "name": "#%%\n",
     "is_executing": true
    }
   }
  },
  {
   "cell_type": "code",
   "execution_count": null,
   "outputs": [],
   "source": [
    "features = features.join(dummy_zip)\n",
    "\n",
    "X, y = features, king[['price']]\n",
    "\n",
    "# Generate train/test sets\n",
    "X_train, X_test, y_train, y_test = train_test_split(\n",
    "    X, y, test_size=.3, random_state=42\n",
    ")\n",
    "\n",
    "\n",
    "# Init, fit, score\n",
    "multi_model = LinearRegression()\n",
    "multi_model.fit(X_train, y_train)\n",
    "\n",
    "print(f\"Training score: {multi_model.score(X_train, y_train)}\")\n",
    "multi_model_score = multi_model.score(X_test, y_test)\n",
    "print(f\"Test score: {multi_model.score(X_test, y_test)}\")"
   ],
   "metadata": {
    "collapsed": false,
    "pycharm": {
     "name": "#%%\n",
     "is_executing": true
    }
   }
  }
 ],
 "metadata": {
  "kernelspec": {
   "display_name": "Python 3",
   "language": "python",
   "name": "python3"
  },
  "language_info": {
   "codemirror_mode": {
    "name": "ipython",
    "version": 2
   },
   "file_extension": ".py",
   "mimetype": "text/x-python",
   "name": "python",
   "nbconvert_exporter": "python",
   "pygments_lexer": "ipython2",
   "version": "2.7.6"
  }
 },
 "nbformat": 4,
 "nbformat_minor": 0
}