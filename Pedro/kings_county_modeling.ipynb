{
 "cells": [
  {
   "cell_type": "code",
   "execution_count": null,
   "metadata": {
    "pycharm": {
     "name": "#%%\n"
    },
    "tags": []
   },
   "outputs": [],
   "source": [
    "import matplotlib.pyplot as plt\n",
    "import numpy as np\n",
    "import pandas as pd\n",
    "import seaborn as sns\n",
    "from   sklearn.linear_model import LinearRegression\n",
    "from   sklearn.model_selection import train_test_split\n",
    "import warnings\n",
    "\n",
    "%matplotlib inline\n",
    "plt.rcParams['figure.figsize'] = (8.0, 6.0)\n",
    "plt.style.use('seaborn-poster')\n",
    "\n",
    "warnings.filterwarnings('ignore')"
   ]
  },
  {
   "cell_type": "code",
   "execution_count": null,
   "metadata": {
    "collapsed": false,
    "jupyter": {
     "outputs_hidden": false
    },
    "pycharm": {
     "name": "#%%\n"
    }
   },
   "outputs": [],
   "source": [
    "king = pd.read_excel(\"..\\data\\king_county_home_sales.xlsx\", index_col= \"Unnamed: 0\" )\n",
    "king.sample(3)"
   ]
  },
  {
   "cell_type": "markdown",
   "metadata": {
    "pycharm": {
     "name": "#%% md\n"
    }
   },
   "source": [
    "Here is a first attempt at a simple linear regression model using the sqft_living room of a home to model"
   ]
  },
  {
   "cell_type": "code",
   "execution_count": null,
   "metadata": {
    "collapsed": false,
    "jupyter": {
     "outputs_hidden": false
    },
    "pycharm": {
     "name": "#%%\n"
    }
   },
   "outputs": [],
   "source": [
    "# price as a function of sqfr_living room, this is just a pedigocial tool and will serve as a basis\n",
    "\n",
    "\n",
    "X, y = king[['sqft_living']] , king[['price']]\n",
    "\n",
    "# Generate train/test sets\n",
    "X_train, X_test, y_train, y_test = train_test_split(\n",
    "    X, y, test_size=.3, random_state=42\n",
    ")\n",
    "\n",
    "# Init, fit, score\n",
    "model = LinearRegression()\n",
    "model.fit(X_train, y_train)\n",
    "\n",
    "print(f\"Training score: {model.score(X_train, y_train)}\")\n",
    "\n",
    "print(f\"Test score: {model.score(X, y)}\")\n"
   ]
  },
  {
   "cell_type": "code",
   "execution_count": null,
   "metadata": {
    "collapsed": false,
    "jupyter": {
     "outputs_hidden": false
    },
    "pycharm": {
     "name": "#%%\n"
    }
   },
   "outputs": [],
   "source": [
    "# plot fit\n",
    "plt.scatter(king.sqft_living, king.price, alpha=0.3)\n",
    "plt.plot(king.sqft_living, model.predict(king[['sqft_living']]), c='darkorange')\n",
    "plt.title(\"Squarefoot Living Room ~ Price\")\n",
    "plt.xlabel(\"Squart Footage\")\n",
    "plt.ylabel(\"Sales Price\")\n",
    "plt.tight_layout()\n",
    "plt.show()"
   ]
  },
  {
   "cell_type": "markdown",
   "metadata": {
    "pycharm": {
     "name": "#%% md\n"
    }
   },
   "source": [
    "Now it is time for a multi linear regression:"
   ]
  },
  {
   "cell_type": "code",
   "execution_count": null,
   "metadata": {
    "collapsed": false,
    "jupyter": {
     "outputs_hidden": false
    },
    "pycharm": {
     "name": "#%%\n"
    }
   },
   "outputs": [],
   "source": [
    "king.columns # calling all columns in order to determine what subset of columns we will use for our models\n",
    "features = king[['bedrooms', 'bathrooms', 'sqft_living',\n",
    "                 'sqft_lot', 'floors', 'waterfront', 'sqft_above',\n",
    "                 'sqft_basement', 'lat', 'long', 'sqft_living15',\n",
    "                 'sqft_lot15', 'view_ord', 'condition_ord', 'grade_ord', 'age', \"renovated\"]]"
   ]
  },
  {
   "cell_type": "code",
   "execution_count": null,
   "metadata": {},
   "outputs": [],
   "source": [
    "def correlated_column_names(df, target, threshold):\n",
    "    # this function returns the a list of the names of columns with greater than a certain threshold of correlation. \n",
    "    index_columns = df.corr()[target][(df.corr()[target] >= threshold) & (df.corr()[target] != 1) ].index # this gets an index object\n",
    "    columns = [index for index in index_columns] # this creates a list with column names \n",
    "    return(columns)"
   ]
  },
  {
   "cell_type": "code",
   "execution_count": null,
   "metadata": {},
   "outputs": [],
   "source": [
    "desirable = correlated_column_names(king, 'price', .3 )"
   ]
  },
  {
   "cell_type": "code",
   "execution_count": null,
   "metadata": {},
   "outputs": [],
   "source": [
    "X, y = king[desirable], king[['price']]\n",
    "\n",
    "# Generate train/test sets\n",
    "X_train, X_test, y_train, y_test = train_test_split(\n",
    "    X, y, test_size=.3, random_state=42\n",
    ")\n",
    "\n",
    "\n",
    "# Init, fit, score\n",
    "multi_model = LinearRegression()\n",
    "multi_model.fit(X_train, y_train)\n",
    "\n",
    "print(f\"Training score: {multi_model.score(X_train, y_train)}\")\n",
    "multi_model_score = multi_model.score(X_test, y_test)\n",
    "print(f\"Test score: {multi_model.score(X_test, y_test)}\")"
   ]
  },
  {
   "cell_type": "code",
   "execution_count": null,
   "metadata": {
    "collapsed": false,
    "jupyter": {
     "outputs_hidden": false
    },
    "pycharm": {
     "name": "#%%\n"
    }
   },
   "outputs": [],
   "source": [
    "# mulit model time: (all ~ price) decided to use every column here except for yr_built since this column and age are redundant and zipcode since it is an arbitraruy number not relevant to our dataframe yet.\n",
    "\n",
    "X, y = features, king[['price']]\n",
    "\n",
    "# Generate train/test sets\n",
    "X_train, X_test, y_train, y_test = train_test_split(\n",
    "    X, y, test_size=.3, random_state=42\n",
    ")\n",
    "\n",
    "\n",
    "# Init, fit, score\n",
    "multi_model = LinearRegression()\n",
    "multi_model.fit(X_train, y_train)\n",
    "\n",
    "print(f\"Training score: {multi_model.score(X_train, y_train)}\")\n",
    "multi_model_score = multi_model.score(X_test, y_test)\n",
    "print(f\"Test score: {multi_model.score(X_test, y_test)}\")"
   ]
  },
  {
   "cell_type": "markdown",
   "metadata": {
    "pycharm": {
     "name": "#%% md\n"
    }
   },
   "source": [
    "An r^2 score of 0.68 isn't bad but it isn't great either. Maybe we have some collinearity issues going on and we need to be more selective about our features. So its time to do some feature selection"
   ]
  },
  {
   "cell_type": "markdown",
   "metadata": {
    "pycharm": {
     "name": "#%% md\n"
    }
   },
   "source": [
    "So how should we proceed from here? One step is to calculate the interactions between different features."
   ]
  },
  {
   "cell_type": "code",
   "execution_count": null,
   "metadata": {
    "collapsed": false,
    "jupyter": {
     "outputs_hidden": false
    },
    "pycharm": {
     "name": "#%%\n"
    }
   },
   "outputs": [],
   "source": [
    "king.columns"
   ]
  },
  {
   "cell_type": "code",
   "execution_count": null,
   "metadata": {
    "collapsed": false,
    "jupyter": {
     "outputs_hidden": false
    },
    "pycharm": {
     "name": "#%%\n"
    }
   },
   "outputs": [],
   "source": [
    "y = king['price']\n",
    "X = king[['bedrooms', 'bathrooms', 'sqft_living', 'sqft_lot', 'floors', 'waterfront',\n",
    "          'sqft_above', 'sqft_basement','lat', 'long', 'zipcode',\n",
    "          'sqft_living15', 'sqft_lot15', 'renovated', 'view_ord', 'condition_ord', 'grade_ord', 'age']]\n",
    "\n",
    "from sklearn.preprocessing import PolynomialFeatures\n",
    "\n",
    "linear_withinteraction = PolynomialFeatures(degree = 2, interaction_only = True, include_bias = False)\n",
    "\n",
    "X_transformed = linear_withinteraction.fit_transform(X.drop(columns= 'zipcode')) #removing zipcode column this will become evident latter when we dummy our zip code\n",
    "\n",
    "feat_names = pd.Series(linear_withinteraction.get_feature_names())\n",
    "\n",
    "feat_names"
   ]
  },
  {
   "cell_type": "code",
   "execution_count": null,
   "metadata": {
    "collapsed": false,
    "jupyter": {
     "outputs_hidden": false
    },
    "pycharm": {
     "name": "#%%\n"
    }
   },
   "outputs": [],
   "source": [
    "xs = ['x0', 'x1', 'x2', 'x3', 'x4', 'x5', 'x6', 'x7', 'x8', 'x9', 'x10',  'x11', 'x12', 'x13', 'x14', 'x15','x16']\n",
    "\n",
    "columns = X.columns\n",
    "\n",
    "map_dict = {x:y for x,y in zip(xs, columns)}\n",
    "\n",
    "for key, value in map_dict.items():\n",
    "    feat_names = feat_names.str.replace(key, value)\n",
    "\n",
    "\n",
    "X_trans_df = pd.DataFrame(X_transformed)\n",
    "X_trans_df.columns = feat_names"
   ]
  },
  {
   "cell_type": "code",
   "execution_count": null,
   "metadata": {
    "collapsed": false,
    "jupyter": {
     "outputs_hidden": false
    },
    "pycharm": {
     "name": "#%%\n"
    }
   },
   "outputs": [],
   "source": [
    "# Generate train/test sets\n",
    "X_train, X_test, y_train, y_test = train_test_split(\n",
    "    X_trans_df, y, test_size=.3, random_state=42\n",
    ")\n",
    "\n",
    "\n",
    "# Init, fit, score\n",
    "stand_model = LinearRegression()\n",
    "stand_model.fit(X_train, y_train)\n",
    "\n",
    "print(f\"Training score: {stand_model.score(X_train, y_train)}\")\n",
    "\n",
    "print(f\"Testing score: {stand_model.score(X_test, y_test)}\")\n",
    "\n",
    "stand_model_score  = stand_model.score(X_test, y_test)"
   ]
  },
  {
   "cell_type": "markdown",
   "metadata": {
    "pycharm": {
     "name": "#%% md\n"
    }
   },
   "source": [
    "Now one last model except now with zip code as a dummied feature instead of as an integer value!"
   ]
  },
  {
   "cell_type": "code",
   "execution_count": null,
   "metadata": {
    "collapsed": false,
    "jupyter": {
     "outputs_hidden": false
    },
    "pycharm": {
     "name": "#%%\n"
    }
   },
   "outputs": [],
   "source": [
    "dummy_zip = pd.get_dummies(king['zipcode'], drop_first = True)"
   ]
  },
  {
   "cell_type": "markdown",
   "metadata": {
    "pycharm": {
     "name": "#%% md\n"
    }
   },
   "source": [
    "One more model with all of our features alongside dummied zip code data."
   ]
  },
  {
   "cell_type": "code",
   "execution_count": null,
   "metadata": {},
   "outputs": [],
   "source": [
    "king.columns # calling all columns in order to determine what subset of columns we will use for our models"
   ]
  },
  {
   "cell_type": "code",
   "execution_count": null,
   "metadata": {
    "collapsed": false,
    "jupyter": {
     "outputs_hidden": false
    },
    "pycharm": {
     "name": "#%%\n"
    }
   },
   "outputs": [],
   "source": [
    "features = king[['bedrooms', 'bathrooms', 'sqft_living',\n",
    "                 'sqft_lot', 'floors', 'waterfront', 'sqft_above',\n",
    "                 'sqft_basement', 'sqft_living15', \n",
    "                 'sqft_lot15', 'view_ord', 'condition_ord', 'grade_ord', 'age', \"renovated\"]]"
   ]
  },
  {
   "cell_type": "code",
   "execution_count": null,
   "metadata": {
    "collapsed": false,
    "jupyter": {
     "outputs_hidden": false
    },
    "pycharm": {
     "name": "#%%\n"
    }
   },
   "outputs": [],
   "source": [
    "features = features.join(dummy_zip)\n",
    "\n",
    "X, y = features, king[['price']]\n",
    "\n",
    "# Generate train/test sets\n",
    "X_train, X_test, y_train, y_test = train_test_split(\n",
    "    X, y, test_size=.3, random_state=42\n",
    ")\n",
    "\n",
    "\n",
    "# Init, fit, score\n",
    "multi_model = LinearRegression()\n",
    "multi_model.fit(X_train, y_train)\n",
    "\n",
    "print(f\"Training score: {multi_model.score(X_train, y_train)}\")\n",
    "multi_model_score = multi_model.score(X_test, y_test)\n",
    "print(f\"Test score: {multi_model.score(X_test, y_test)}\")"
   ]
  },
  {
   "cell_type": "markdown",
   "metadata": {},
   "source": [
    "Now we will incorporate the distance to downtown seattle in our model and compare the score! "
   ]
  },
  {
   "cell_type": "code",
   "execution_count": null,
   "metadata": {
    "collapsed": false,
    "jupyter": {
     "outputs_hidden": false
    },
    "pycharm": {
     "name": "#%%\n"
    }
   },
   "outputs": [],
   "source": [
    "features = king[['bedrooms', 'bathrooms', 'sqft_living',\n",
    "                 'sqft_lot', 'floors', 'waterfront', 'sqft_above',\n",
    "                 'sqft_basement', 'sqft_living15', 'sqft_lot15', 'view_ord', 'condition_ord', 'grade_ord', \n",
    "                 'age', \"renovated\", \"distance_to_downtown_seattle_miles\"]]"
   ]
  },
  {
   "cell_type": "code",
   "execution_count": null,
   "metadata": {
    "collapsed": false,
    "jupyter": {
     "outputs_hidden": false
    },
    "pycharm": {
     "name": "#%%\n"
    }
   },
   "outputs": [],
   "source": [
    "features = features.join(dummy_zip)\n",
    "\n",
    "X, y = features, king[['price']]\n",
    "\n",
    "# Generate train/test sets\n",
    "X_train, X_test, y_train, y_test = train_test_split(\n",
    "    X, y, test_size=.3, random_state=42\n",
    ")\n",
    "\n",
    "\n",
    "# Init, fit, score\n",
    "multi_model = LinearRegression()\n",
    "multi_model.fit(X_train, y_train)\n",
    "\n",
    "print(f\"Training score: {multi_model.score(X_train, y_train)}\")\n",
    "multi_model_score = multi_model.score(X_test, y_test)\n",
    "print(f\"Test score: {multi_model.score(X_test, y_test)}\")"
   ]
  }
 ],
 "metadata": {
  "kernelspec": {
   "display_name": "Python 3 (ipykernel)",
   "language": "python",
   "name": "python3"
  },
  "language_info": {
   "codemirror_mode": {
    "name": "ipython",
    "version": 3
   },
   "file_extension": ".py",
   "mimetype": "text/x-python",
   "name": "python",
   "nbconvert_exporter": "python",
   "pygments_lexer": "ipython3",
   "version": "3.8.12"
  }
 },
 "nbformat": 4,
 "nbformat_minor": 4
}
