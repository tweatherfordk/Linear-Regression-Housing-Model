{
 "cells": [
  {
   "cell_type": "code",
   "execution_count": 10,
   "metadata": {
    "jupyter": {
     "outputs_hidden": false
    },
    "pycharm": {
     "name": "#%%\n"
    }
   },
   "outputs": [],
   "source": [
    "import pandas as pd"
   ]
  },
  {
   "cell_type": "code",
   "execution_count": 11,
   "metadata": {
    "pycharm": {
     "name": "#%%\n"
    }
   },
   "outputs": [],
   "source": [
    "airbnb = pd.read_excel('..\\\\data\\\\airbnb_data_cleaned.xlsx', index_col = 'Unnamed: 0')"
   ]
  },
  {
   "cell_type": "code",
   "execution_count": 12,
   "metadata": {
    "pycharm": {
     "name": "#%%\n"
    }
   },
   "outputs": [],
   "source": [
    "airbnb.dropna(inplace = True)"
   ]
  },
  {
   "cell_type": "code",
   "execution_count": 13,
   "metadata": {
    "pycharm": {
     "name": "#%%\n"
    }
   },
   "outputs": [],
   "source": [
    "airbnb.zipcode = airbnb.zipcode.astype(\"int\")"
   ]
  },
  {
   "cell_type": "code",
   "execution_count": 14,
   "metadata": {
    "pycharm": {
     "name": "#%%\n"
    }
   },
   "outputs": [
    {
     "data": {
      "text/plain": "array(['Highland Park', 'Arbor Heights', 'Wallingford', 'Georgetown',\n       'Fairmount Park', 'Whittier Heights', 'Loyal Heights', 'Eastlake',\n       'Alki', 'South Delridge', 'Fremont', 'Atlantic', 'Broadview',\n       'Green Lake', 'North Queen Anne', 'Portage Bay',\n       'Lower Queen Anne', 'Phinney Ridge', 'Harrison/Denny-Blaine',\n       'Crown Hill', 'Maple Leaf', 'East Queen Anne', 'Lawton Park',\n       'Pioneer Square', 'Mid-Beacon Hill', 'West Queen Anne',\n       'North Beacon Hill', 'Mount Baker', 'Belltown', 'First Hill',\n       'Ravenna', 'Broadway', 'Stevens', 'West Woodland', 'North Admiral',\n       'Greenwood', 'International District', 'Haller Lake',\n       'Madison Park', 'Fauntleroy', 'Wedgwood', 'Cedar Park',\n       'University District', 'Columbia City', 'Madrona', 'Mann',\n       'Matthews Beach', 'Genesee', 'Central Business District', 'Minor',\n       'Leschi', 'Briarcliff', 'Sunset Hill', 'North Delridge', 'Bryant',\n       'Adams', 'North Beach/Blue Ridge', 'Seward Park', 'Pike-Market',\n       'High Point', 'Yesler Terrace', 'Bitter Lake', 'Brighton',\n       'Interbay', 'View Ridge', 'Windermere', 'Harbor Island', 'Dunlap',\n       'Rainier Beach', 'Seaview', 'Victory Heights',\n       'Southeast Magnolia', 'Olympic Hills', 'Roosevelt', 'Laurelhurst',\n       'Gatewood', 'North College Park', 'Riverview', 'Meadowbrook',\n       'Pinehurst', 'Montlake', 'Rainier View', 'South Beacon Hill',\n       'Westlake', 'Industrial District', 'South Park',\n       'South Lake Union', 'Roxhill', 'Holly Park', 'Sand Point'],\n      dtype=object)"
     },
     "execution_count": 14,
     "metadata": {},
     "output_type": "execute_result"
    }
   ],
   "source": [
    "airbnb.neighbourhood.unique()"
   ]
  },
  {
   "cell_type": "code",
   "execution_count": 15,
   "metadata": {
    "pycharm": {
     "name": "#%%\n"
    }
   },
   "outputs": [
    {
     "data": {
      "text/plain": "count    5320.000000\nmean      196.246241\nstd       152.236341\nmin         0.000000\n25%       110.000000\n50%       157.500000\n75%       239.000000\nmax      3750.000000\nName: price, dtype: float64"
     },
     "execution_count": 15,
     "metadata": {},
     "output_type": "execute_result"
    }
   ],
   "source": [
    "airbnb.price.describe()"
   ]
  },
  {
   "cell_type": "code",
   "execution_count": 16,
   "metadata": {
    "pycharm": {
     "name": "#%%\n"
    }
   },
   "outputs": [
    {
     "data": {
      "text/plain": "            id neighbourhood_group              neighbourhood   latitude  \\\n2801  46253091             Cascade           South Lake Union  47.619018   \n3170  49229073            Downtown  Central Business District  47.612532   \n\n       longitude   room_type  price  zipcode  \n2801 -122.339582  Hotel room      0    98109  \n3170 -122.333287  Hotel room      0    98101  ",
      "text/html": "<div>\n<style scoped>\n    .dataframe tbody tr th:only-of-type {\n        vertical-align: middle;\n    }\n\n    .dataframe tbody tr th {\n        vertical-align: top;\n    }\n\n    .dataframe thead th {\n        text-align: right;\n    }\n</style>\n<table border=\"1\" class=\"dataframe\">\n  <thead>\n    <tr style=\"text-align: right;\">\n      <th></th>\n      <th>id</th>\n      <th>neighbourhood_group</th>\n      <th>neighbourhood</th>\n      <th>latitude</th>\n      <th>longitude</th>\n      <th>room_type</th>\n      <th>price</th>\n      <th>zipcode</th>\n    </tr>\n  </thead>\n  <tbody>\n    <tr>\n      <th>2801</th>\n      <td>46253091</td>\n      <td>Cascade</td>\n      <td>South Lake Union</td>\n      <td>47.619018</td>\n      <td>-122.339582</td>\n      <td>Hotel room</td>\n      <td>0</td>\n      <td>98109</td>\n    </tr>\n    <tr>\n      <th>3170</th>\n      <td>49229073</td>\n      <td>Downtown</td>\n      <td>Central Business District</td>\n      <td>47.612532</td>\n      <td>-122.333287</td>\n      <td>Hotel room</td>\n      <td>0</td>\n      <td>98101</td>\n    </tr>\n  </tbody>\n</table>\n</div>"
     },
     "execution_count": 16,
     "metadata": {},
     "output_type": "execute_result"
    }
   ],
   "source": [
    "airbnb.loc[airbnb.price == 0]"
   ]
  },
  {
   "cell_type": "code",
   "execution_count": 17,
   "metadata": {
    "pycharm": {
     "name": "#%%\n"
    }
   },
   "outputs": [],
   "source": [
    "airbnb.drop(index = [2801,3170], inplace = True)"
   ]
  },
  {
   "cell_type": "code",
   "execution_count": 18,
   "outputs": [],
   "source": [
    "airbnb.dropna(inplace = True)"
   ],
   "metadata": {
    "collapsed": false,
    "pycharm": {
     "name": "#%%\n"
    }
   }
  },
  {
   "cell_type": "code",
   "execution_count": 19,
   "outputs": [],
   "source": [
    "airbnb.zipcode = airbnb.zipcode.astype(\"int\")"
   ],
   "metadata": {
    "collapsed": false,
    "pycharm": {
     "name": "#%%\n"
    }
   }
  },
  {
   "cell_type": "code",
   "execution_count": 20,
   "outputs": [
    {
     "data": {
      "text/plain": "array(['Highland Park', 'Arbor Heights', 'Wallingford', 'Georgetown',\n       'Fairmount Park', 'Whittier Heights', 'Loyal Heights', 'Eastlake',\n       'Alki', 'South Delridge', 'Fremont', 'Atlantic', 'Broadview',\n       'Green Lake', 'North Queen Anne', 'Portage Bay',\n       'Lower Queen Anne', 'Phinney Ridge', 'Harrison/Denny-Blaine',\n       'Crown Hill', 'Maple Leaf', 'East Queen Anne', 'Lawton Park',\n       'Pioneer Square', 'Mid-Beacon Hill', 'West Queen Anne',\n       'North Beacon Hill', 'Mount Baker', 'Belltown', 'First Hill',\n       'Ravenna', 'Broadway', 'Stevens', 'West Woodland', 'North Admiral',\n       'Greenwood', 'International District', 'Haller Lake',\n       'Madison Park', 'Fauntleroy', 'Wedgwood', 'Cedar Park',\n       'University District', 'Columbia City', 'Madrona', 'Mann',\n       'Matthews Beach', 'Genesee', 'Central Business District', 'Minor',\n       'Leschi', 'Briarcliff', 'Sunset Hill', 'North Delridge', 'Bryant',\n       'Adams', 'North Beach/Blue Ridge', 'Seward Park', 'Pike-Market',\n       'High Point', 'Yesler Terrace', 'Bitter Lake', 'Brighton',\n       'Interbay', 'View Ridge', 'Windermere', 'Harbor Island', 'Dunlap',\n       'Rainier Beach', 'Seaview', 'Victory Heights',\n       'Southeast Magnolia', 'Olympic Hills', 'Roosevelt', 'Laurelhurst',\n       'Gatewood', 'North College Park', 'Riverview', 'Meadowbrook',\n       'Pinehurst', 'Montlake', 'Rainier View', 'South Beacon Hill',\n       'Westlake', 'Industrial District', 'South Park',\n       'South Lake Union', 'Roxhill', 'Holly Park', 'Sand Point'],\n      dtype=object)"
     },
     "execution_count": 20,
     "metadata": {},
     "output_type": "execute_result"
    }
   ],
   "source": [
    "airbnb.neighbourhood.unique()"
   ],
   "metadata": {
    "collapsed": false,
    "pycharm": {
     "name": "#%%\n"
    }
   }
  },
  {
   "cell_type": "code",
   "execution_count": 21,
   "outputs": [
    {
     "data": {
      "text/plain": "count    5318.000000\nmean      196.320045\nstd       152.217375\nmin        10.000000\n25%       110.000000\n50%       158.000000\n75%       239.000000\nmax      3750.000000\nName: price, dtype: float64"
     },
     "execution_count": 21,
     "metadata": {},
     "output_type": "execute_result"
    }
   ],
   "source": [
    "airbnb.price.describe()"
   ],
   "metadata": {
    "collapsed": false,
    "pycharm": {
     "name": "#%%\n"
    }
   }
  },
  {
   "cell_type": "code",
   "execution_count": 22,
   "outputs": [
    {
     "ename": "KeyError",
     "evalue": "'[2801, 3170] not found in axis'",
     "output_type": "error",
     "traceback": [
      "\u001B[1;31m---------------------------------------------------------------------------\u001B[0m",
      "\u001B[1;31mKeyError\u001B[0m                                  Traceback (most recent call last)",
      "\u001B[1;32m<ipython-input-22-35fad56b0f1b>\u001B[0m in \u001B[0;36m<module>\u001B[1;34m\u001B[0m\n\u001B[0;32m      1\u001B[0m \u001B[0mairbnb\u001B[0m\u001B[1;33m.\u001B[0m\u001B[0mloc\u001B[0m\u001B[1;33m[\u001B[0m\u001B[0mairbnb\u001B[0m\u001B[1;33m.\u001B[0m\u001B[0mprice\u001B[0m \u001B[1;33m==\u001B[0m \u001B[1;36m0\u001B[0m\u001B[1;33m]\u001B[0m\u001B[1;33m\u001B[0m\u001B[1;33m\u001B[0m\u001B[0m\n\u001B[1;32m----> 2\u001B[1;33m \u001B[0mairbnb\u001B[0m\u001B[1;33m.\u001B[0m\u001B[0mdrop\u001B[0m\u001B[1;33m(\u001B[0m\u001B[0mindex\u001B[0m \u001B[1;33m=\u001B[0m \u001B[1;33m[\u001B[0m\u001B[1;36m2801\u001B[0m\u001B[1;33m,\u001B[0m\u001B[1;36m3170\u001B[0m\u001B[1;33m]\u001B[0m\u001B[1;33m,\u001B[0m \u001B[0minplace\u001B[0m \u001B[1;33m=\u001B[0m \u001B[1;32mTrue\u001B[0m\u001B[1;33m)\u001B[0m\u001B[1;33m\u001B[0m\u001B[1;33m\u001B[0m\u001B[0m\n\u001B[0m",
      "\u001B[1;32m~\\anaconda3\\envs\\learn-env\\lib\\site-packages\\pandas\\util\\_decorators.py\u001B[0m in \u001B[0;36mwrapper\u001B[1;34m(*args, **kwargs)\u001B[0m\n\u001B[0;32m    309\u001B[0m     \u001B[1;32mdef\u001B[0m \u001B[0mdecorate\u001B[0m\u001B[1;33m(\u001B[0m\u001B[0mfunc\u001B[0m\u001B[1;33m:\u001B[0m \u001B[0mF\u001B[0m\u001B[1;33m)\u001B[0m \u001B[1;33m->\u001B[0m \u001B[0mF\u001B[0m\u001B[1;33m:\u001B[0m\u001B[1;33m\u001B[0m\u001B[1;33m\u001B[0m\u001B[0m\n\u001B[0;32m    310\u001B[0m         \u001B[1;33m@\u001B[0m\u001B[0mwraps\u001B[0m\u001B[1;33m(\u001B[0m\u001B[0mfunc\u001B[0m\u001B[1;33m)\u001B[0m\u001B[1;33m\u001B[0m\u001B[1;33m\u001B[0m\u001B[0m\n\u001B[1;32m--> 311\u001B[1;33m         \u001B[1;32mdef\u001B[0m \u001B[0mwrapper\u001B[0m\u001B[1;33m(\u001B[0m\u001B[1;33m*\u001B[0m\u001B[0margs\u001B[0m\u001B[1;33m,\u001B[0m \u001B[1;33m**\u001B[0m\u001B[0mkwargs\u001B[0m\u001B[1;33m)\u001B[0m \u001B[1;33m->\u001B[0m \u001B[0mCallable\u001B[0m\u001B[1;33m[\u001B[0m\u001B[1;33m...\u001B[0m\u001B[1;33m,\u001B[0m \u001B[0mAny\u001B[0m\u001B[1;33m]\u001B[0m\u001B[1;33m:\u001B[0m\u001B[1;33m\u001B[0m\u001B[1;33m\u001B[0m\u001B[0m\n\u001B[0m\u001B[0;32m    312\u001B[0m             \u001B[1;32mreturn\u001B[0m \u001B[0mfunc\u001B[0m\u001B[1;33m(\u001B[0m\u001B[1;33m*\u001B[0m\u001B[0margs\u001B[0m\u001B[1;33m,\u001B[0m \u001B[1;33m**\u001B[0m\u001B[0mkwargs\u001B[0m\u001B[1;33m)\u001B[0m\u001B[1;33m\u001B[0m\u001B[1;33m\u001B[0m\u001B[0m\n\u001B[0;32m    313\u001B[0m \u001B[1;33m\u001B[0m\u001B[0m\n",
      "\u001B[1;32m~\\anaconda3\\envs\\learn-env\\lib\\site-packages\\pandas\\core\\frame.py\u001B[0m in \u001B[0;36mdrop\u001B[1;34m(self, labels, axis, index, columns, level, inplace, errors)\u001B[0m\n\u001B[0;32m   4955\u001B[0m         \u001B[0mIf\u001B[0m \u001B[0mwe\u001B[0m \u001B[0mspecify\u001B[0m \u001B[0ma\u001B[0m \u001B[0mnonexistent\u001B[0m \u001B[0mlevel\u001B[0m \u001B[1;32mfor\u001B[0m\u001B[0;31m \u001B[0m\u001B[0;31m`\u001B[0m\u001B[0mcol_fill\u001B[0m\u001B[0;31m`\u001B[0m\u001B[1;33m,\u001B[0m \u001B[0mit\u001B[0m \u001B[1;32mis\u001B[0m \u001B[0mcreated\u001B[0m\u001B[1;33m:\u001B[0m\u001B[1;33m\u001B[0m\u001B[1;33m\u001B[0m\u001B[0m\n\u001B[0;32m   4956\u001B[0m \u001B[1;33m\u001B[0m\u001B[0m\n\u001B[1;32m-> 4957\u001B[1;33m         \u001B[1;33m>>\u001B[0m\u001B[1;33m>\u001B[0m \u001B[0mdf\u001B[0m\u001B[1;33m.\u001B[0m\u001B[0mreset_index\u001B[0m\u001B[1;33m(\u001B[0m\u001B[0mlevel\u001B[0m\u001B[1;33m=\u001B[0m\u001B[1;34m'class'\u001B[0m\u001B[1;33m,\u001B[0m \u001B[0mcol_level\u001B[0m\u001B[1;33m=\u001B[0m\u001B[1;36m1\u001B[0m\u001B[1;33m,\u001B[0m \u001B[0mcol_fill\u001B[0m\u001B[1;33m=\u001B[0m\u001B[1;34m'genus'\u001B[0m\u001B[1;33m)\u001B[0m\u001B[1;33m\u001B[0m\u001B[1;33m\u001B[0m\u001B[0m\n\u001B[0m\u001B[0;32m   4958\u001B[0m                         \u001B[0mgenus\u001B[0m  \u001B[0mspeed\u001B[0m \u001B[0mspecies\u001B[0m\u001B[1;33m\u001B[0m\u001B[1;33m\u001B[0m\u001B[0m\n\u001B[0;32m   4959\u001B[0m                         \u001B[1;32mclass\u001B[0m    \u001B[0mmax\u001B[0m    \u001B[0mtype\u001B[0m\u001B[1;33m\u001B[0m\u001B[1;33m\u001B[0m\u001B[0m\n",
      "\u001B[1;32m~\\anaconda3\\envs\\learn-env\\lib\\site-packages\\pandas\\core\\generic.py\u001B[0m in \u001B[0;36mdrop\u001B[1;34m(self, labels, axis, index, columns, level, inplace, errors)\u001B[0m\n\u001B[0;32m   4265\u001B[0m         \u001B[0mdtype\u001B[0m\u001B[1;33m:\u001B[0m \u001B[0mint64\u001B[0m\u001B[1;33m\u001B[0m\u001B[1;33m\u001B[0m\u001B[0m\n\u001B[0;32m   4266\u001B[0m \u001B[1;33m\u001B[0m\u001B[0m\n\u001B[1;32m-> 4267\u001B[1;33m         \u001B[1;33m>>\u001B[0m\u001B[1;33m>\u001B[0m \u001B[0ms\u001B[0m\u001B[1;33m.\u001B[0m\u001B[0madd_prefix\u001B[0m\u001B[1;33m(\u001B[0m\u001B[1;34m'item_'\u001B[0m\u001B[1;33m)\u001B[0m\u001B[1;33m\u001B[0m\u001B[1;33m\u001B[0m\u001B[0m\n\u001B[0m\u001B[0;32m   4268\u001B[0m         \u001B[0mitem_0\u001B[0m    \u001B[1;36m1\u001B[0m\u001B[1;33m\u001B[0m\u001B[1;33m\u001B[0m\u001B[0m\n\u001B[0;32m   4269\u001B[0m         \u001B[0mitem_1\u001B[0m    \u001B[1;36m2\u001B[0m\u001B[1;33m\u001B[0m\u001B[1;33m\u001B[0m\u001B[0m\n",
      "\u001B[1;32m~\\anaconda3\\envs\\learn-env\\lib\\site-packages\\pandas\\core\\generic.py\u001B[0m in \u001B[0;36m_drop_axis\u001B[1;34m(self, labels, axis, level, errors, consolidate, only_slice)\u001B[0m\n\u001B[0;32m   4309\u001B[0m             \u001B[0mThe\u001B[0m \u001B[0mstring\u001B[0m \u001B[0mto\u001B[0m \u001B[0madd\u001B[0m \u001B[0mafter\u001B[0m \u001B[0meach\u001B[0m \u001B[0mlabel\u001B[0m\u001B[1;33m.\u001B[0m\u001B[1;33m\u001B[0m\u001B[1;33m\u001B[0m\u001B[0m\n\u001B[0;32m   4310\u001B[0m \u001B[1;33m\u001B[0m\u001B[0m\n\u001B[1;32m-> 4311\u001B[1;33m         \u001B[0mReturns\u001B[0m\u001B[1;33m\u001B[0m\u001B[1;33m\u001B[0m\u001B[0m\n\u001B[0m\u001B[0;32m   4312\u001B[0m         \u001B[1;33m-\u001B[0m\u001B[1;33m-\u001B[0m\u001B[1;33m-\u001B[0m\u001B[1;33m-\u001B[0m\u001B[1;33m-\u001B[0m\u001B[1;33m-\u001B[0m\u001B[1;33m-\u001B[0m\u001B[1;33m\u001B[0m\u001B[1;33m\u001B[0m\u001B[0m\n\u001B[0;32m   4313\u001B[0m         \u001B[0mSeries\u001B[0m \u001B[1;32mor\u001B[0m \u001B[0mDataFrame\u001B[0m\u001B[1;33m\u001B[0m\u001B[1;33m\u001B[0m\u001B[0m\n",
      "\u001B[1;32m~\\anaconda3\\envs\\learn-env\\lib\\site-packages\\pandas\\core\\indexes\\base.py\u001B[0m in \u001B[0;36mdrop\u001B[1;34m(self, labels, errors)\u001B[0m\n",
      "\u001B[1;31mKeyError\u001B[0m: '[2801, 3170] not found in axis'"
     ]
    }
   ],
   "source": [
    "airbnb.loc[airbnb.price == 0]\n",
    "airbnb.drop(index = [2801,3170], inplace = True)"
   ],
   "metadata": {
    "collapsed": false,
    "pycharm": {
     "name": "#%%\n"
    }
   }
  },
  {
   "cell_type": "code",
   "execution_count": null,
   "outputs": [],
   "source": [
    "airbnb.dropna(inplace = True)"
   ],
   "metadata": {
    "collapsed": false,
    "pycharm": {
     "name": "#%%\n"
    }
   }
  },
  {
   "cell_type": "code",
   "execution_count": null,
   "outputs": [],
   "source": [
    "airbnb.zipcode = airbnb.zipcode.astype(\"int\")"
   ],
   "metadata": {
    "collapsed": false,
    "pycharm": {
     "name": "#%%\n"
    }
   }
  },
  {
   "cell_type": "code",
   "execution_count": null,
   "outputs": [],
   "source": [
    "airbnb.neighbourhood.unique()"
   ],
   "metadata": {
    "collapsed": false,
    "pycharm": {
     "name": "#%%\n"
    }
   }
  },
  {
   "cell_type": "code",
   "execution_count": null,
   "outputs": [],
   "source": [
    "airbnb.price.describe()"
   ],
   "metadata": {
    "collapsed": false,
    "pycharm": {
     "name": "#%%\n"
    }
   }
  },
  {
   "cell_type": "code",
   "execution_count": null,
   "outputs": [],
   "source": [
    "airbnb.loc[airbnb.price == 0]\n",
    "airbnb.drop(index = [2801,3170], inplace = True)"
   ],
   "metadata": {
    "collapsed": false,
    "pycharm": {
     "name": "#%%\n"
    }
   }
  },
  {
   "cell_type": "code",
   "execution_count": 3,
   "metadata": {},
   "outputs": [],
   "source": [
    "airbnb.dropna(inplace = True)"
   ]
  },
  {
   "cell_type": "code",
   "execution_count": 4,
   "metadata": {},
   "outputs": [],
   "source": [
    "airbnb.zipcode = airbnb.zipcode.astype(\"int\")"
   ]
  },
  {
   "cell_type": "code",
   "execution_count": 5,
   "metadata": {},
   "outputs": [
    {
     "data": {
      "text/plain": [
       "array(['Highland Park', 'Arbor Heights', 'Wallingford', 'Georgetown',\n",
       "       'Fairmount Park', 'Whittier Heights', 'Loyal Heights', 'Eastlake',\n",
       "       'Alki', 'South Delridge', 'Fremont', 'Atlantic', 'Broadview',\n",
       "       'Green Lake', 'North Queen Anne', 'Portage Bay',\n",
       "       'Lower Queen Anne', 'Phinney Ridge', 'Harrison/Denny-Blaine',\n",
       "       'Crown Hill', 'Maple Leaf', 'East Queen Anne', 'Lawton Park',\n",
       "       'Pioneer Square', 'Mid-Beacon Hill', 'West Queen Anne',\n",
       "       'North Beacon Hill', 'Mount Baker', 'Belltown', 'First Hill',\n",
       "       'Ravenna', 'Broadway', 'Stevens', 'West Woodland', 'North Admiral',\n",
       "       'Greenwood', 'International District', 'Haller Lake',\n",
       "       'Madison Park', 'Fauntleroy', 'Wedgwood', 'Cedar Park',\n",
       "       'University District', 'Columbia City', 'Madrona', 'Mann',\n",
       "       'Matthews Beach', 'Genesee', 'Central Business District', 'Minor',\n",
       "       'Leschi', 'Briarcliff', 'Sunset Hill', 'North Delridge', 'Bryant',\n",
       "       'Adams', 'North Beach/Blue Ridge', 'Seward Park', 'Pike-Market',\n",
       "       'High Point', 'Yesler Terrace', 'Bitter Lake', 'Brighton',\n",
       "       'Interbay', 'View Ridge', 'Windermere', 'Harbor Island', 'Dunlap',\n",
       "       'Rainier Beach', 'Seaview', 'Victory Heights',\n",
       "       'Southeast Magnolia', 'Olympic Hills', 'Roosevelt', 'Laurelhurst',\n",
       "       'Gatewood', 'North College Park', 'Riverview', 'Meadowbrook',\n",
       "       'Pinehurst', 'Montlake', 'Rainier View', 'South Beacon Hill',\n",
       "       'Westlake', 'Industrial District', 'South Park',\n",
       "       'South Lake Union', 'Roxhill', 'Holly Park', 'Sand Point'],\n",
       "      dtype=object)"
      ]
     },
     "execution_count": 5,
     "metadata": {},
     "output_type": "execute_result"
    }
   ],
   "source": [
    "airbnb.neighbourhood.unique()"
   ]
  },
  {
   "cell_type": "code",
   "execution_count": 6,
   "metadata": {},
   "outputs": [
    {
     "data": {
      "text/plain": [
       "count    5320.000000\n",
       "mean      196.246241\n",
       "std       152.236341\n",
       "min         0.000000\n",
       "25%       110.000000\n",
       "50%       157.500000\n",
       "75%       239.000000\n",
       "max      3750.000000\n",
       "Name: price, dtype: float64"
      ]
     },
     "execution_count": 6,
     "metadata": {},
     "output_type": "execute_result"
    }
   ],
   "source": [
    "airbnb.price.describe()"
   ]
  },
  {
   "cell_type": "code",
   "execution_count": 7,
   "metadata": {},
   "outputs": [],
   "source": [
    "airbnb.loc[airbnb.price == 0]\n",
    "airbnb.drop(index = [2801,3170], inplace = True)"
   ]
  }
 ],
 "metadata": {
  "kernelspec": {
   "display_name": "Python 3",
   "language": "python",
   "name": "python3"
  },
  "language_info": {
   "codemirror_mode": {
    "name": "ipython",
    "version": 3
   },
   "file_extension": ".py",
   "mimetype": "text/x-python",
   "name": "python",
   "nbconvert_exporter": "python",
   "pygments_lexer": "ipython3",
   "version": "3.8.5"
  }
 },
 "nbformat": 4,
 "nbformat_minor": 4
}