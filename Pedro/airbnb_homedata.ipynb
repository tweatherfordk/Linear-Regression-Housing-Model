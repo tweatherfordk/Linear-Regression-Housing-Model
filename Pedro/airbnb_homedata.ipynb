{
 "cells": [
  {
   "cell_type": "code",
   "execution_count": 1,
   "metadata": {
    "jupyter": {
     "outputs_hidden": false
    },
    "pycharm": {
     "name": "#%%\n"
    }
   },
   "outputs": [],
   "source": [
    "import pandas as pd"
   ]
  },
  {
   "cell_type": "code",
   "execution_count": 2,
   "metadata": {
    "pycharm": {
     "name": "#%%\n"
    }
   },
   "outputs": [],
   "source": [
    "airbnb = pd.read_excel('..\\\\data\\\\airbnb_data_cleaned.xlsx', index_col = 'Unnamed: 0')"
   ]
  },
  {
   "cell_type": "code",
   "execution_count": 3,
   "metadata": {
    "pycharm": {
     "name": "#%%\n"
    }
   },
   "outputs": [],
   "source": [
    "airbnb.dropna(inplace = True)"
   ]
  },
  {
   "cell_type": "code",
   "execution_count": 4,
   "metadata": {
    "pycharm": {
     "name": "#%%\n"
    }
   },
   "outputs": [],
   "source": [
    "airbnb.zipcode = airbnb.zipcode.astype(\"int\")"
   ]
  },
  {
   "cell_type": "code",
   "execution_count": 5,
   "metadata": {
    "pycharm": {
     "name": "#%%\n"
    }
   },
   "outputs": [
    {
     "data": {
      "text/plain": [
       "array(['Highland Park', 'Arbor Heights', 'Wallingford', 'Georgetown',\n",
       "       'Fairmount Park', 'Whittier Heights', 'Loyal Heights', 'Eastlake',\n",
       "       'Alki', 'South Delridge', 'Fremont', 'Atlantic', 'Broadview',\n",
       "       'Green Lake', 'North Queen Anne', 'Portage Bay',\n",
       "       'Lower Queen Anne', 'Phinney Ridge', 'Harrison/Denny-Blaine',\n",
       "       'Crown Hill', 'Maple Leaf', 'East Queen Anne', 'Lawton Park',\n",
       "       'Pioneer Square', 'Mid-Beacon Hill', 'West Queen Anne',\n",
       "       'North Beacon Hill', 'Mount Baker', 'Belltown', 'First Hill',\n",
       "       'Ravenna', 'Broadway', 'Stevens', 'West Woodland', 'North Admiral',\n",
       "       'Greenwood', 'International District', 'Haller Lake',\n",
       "       'Madison Park', 'Fauntleroy', 'Wedgwood', 'Cedar Park',\n",
       "       'University District', 'Columbia City', 'Madrona', 'Mann',\n",
       "       'Matthews Beach', 'Genesee', 'Central Business District', 'Minor',\n",
       "       'Leschi', 'Briarcliff', 'Sunset Hill', 'North Delridge', 'Bryant',\n",
       "       'Adams', 'North Beach/Blue Ridge', 'Seward Park', 'Pike-Market',\n",
       "       'High Point', 'Yesler Terrace', 'Bitter Lake', 'Brighton',\n",
       "       'Interbay', 'View Ridge', 'Windermere', 'Harbor Island', 'Dunlap',\n",
       "       'Rainier Beach', 'Seaview', 'Victory Heights',\n",
       "       'Southeast Magnolia', 'Olympic Hills', 'Roosevelt', 'Laurelhurst',\n",
       "       'Gatewood', 'North College Park', 'Riverview', 'Meadowbrook',\n",
       "       'Pinehurst', 'Montlake', 'Rainier View', 'South Beacon Hill',\n",
       "       'Westlake', 'Industrial District', 'South Park',\n",
       "       'South Lake Union', 'Roxhill', 'Holly Park', 'Sand Point'],\n",
       "      dtype=object)"
      ]
     },
     "execution_count": 5,
     "metadata": {},
     "output_type": "execute_result"
    }
   ],
   "source": [
    "airbnb.neighbourhood.unique()"
   ]
  },
  {
   "cell_type": "code",
   "execution_count": 6,
   "metadata": {
    "pycharm": {
     "name": "#%%\n"
    }
   },
   "outputs": [
    {
     "data": {
      "text/plain": [
       "count    5320.000000\n",
       "mean      196.246241\n",
       "std       152.236341\n",
       "min         0.000000\n",
       "25%       110.000000\n",
       "50%       157.500000\n",
       "75%       239.000000\n",
       "max      3750.000000\n",
       "Name: price, dtype: float64"
      ]
     },
     "execution_count": 6,
     "metadata": {},
     "output_type": "execute_result"
    }
   ],
   "source": [
    "airbnb.price.describe()"
   ]
  },
  {
   "cell_type": "code",
   "execution_count": 7,
   "metadata": {
    "pycharm": {
     "name": "#%%\n"
    }
   },
   "outputs": [
    {
     "data": {
      "text/html": [
       "<div>\n",
       "<style scoped>\n",
       "    .dataframe tbody tr th:only-of-type {\n",
       "        vertical-align: middle;\n",
       "    }\n",
       "\n",
       "    .dataframe tbody tr th {\n",
       "        vertical-align: top;\n",
       "    }\n",
       "\n",
       "    .dataframe thead th {\n",
       "        text-align: right;\n",
       "    }\n",
       "</style>\n",
       "<table border=\"1\" class=\"dataframe\">\n",
       "  <thead>\n",
       "    <tr style=\"text-align: right;\">\n",
       "      <th></th>\n",
       "      <th>id</th>\n",
       "      <th>neighbourhood_group</th>\n",
       "      <th>neighbourhood</th>\n",
       "      <th>latitude</th>\n",
       "      <th>longitude</th>\n",
       "      <th>room_type</th>\n",
       "      <th>price</th>\n",
       "      <th>zipcode</th>\n",
       "    </tr>\n",
       "  </thead>\n",
       "  <tbody>\n",
       "    <tr>\n",
       "      <th>2801</th>\n",
       "      <td>46253091</td>\n",
       "      <td>Cascade</td>\n",
       "      <td>South Lake Union</td>\n",
       "      <td>47.619018</td>\n",
       "      <td>-122.339582</td>\n",
       "      <td>Hotel room</td>\n",
       "      <td>0</td>\n",
       "      <td>98109</td>\n",
       "    </tr>\n",
       "    <tr>\n",
       "      <th>3170</th>\n",
       "      <td>49229073</td>\n",
       "      <td>Downtown</td>\n",
       "      <td>Central Business District</td>\n",
       "      <td>47.612532</td>\n",
       "      <td>-122.333287</td>\n",
       "      <td>Hotel room</td>\n",
       "      <td>0</td>\n",
       "      <td>98101</td>\n",
       "    </tr>\n",
       "  </tbody>\n",
       "</table>\n",
       "</div>"
      ],
      "text/plain": [
       "            id neighbourhood_group              neighbourhood   latitude  \\\n",
       "2801  46253091             Cascade           South Lake Union  47.619018   \n",
       "3170  49229073            Downtown  Central Business District  47.612532   \n",
       "\n",
       "       longitude   room_type  price  zipcode  \n",
       "2801 -122.339582  Hotel room      0    98109  \n",
       "3170 -122.333287  Hotel room      0    98101  "
      ]
     },
     "execution_count": 7,
     "metadata": {},
     "output_type": "execute_result"
    }
   ],
   "source": [
    "airbnb.loc[airbnb.price == 0]"
   ]
  },
  {
   "cell_type": "code",
   "execution_count": 8,
   "metadata": {
    "pycharm": {
     "name": "#%%\n"
    }
   },
   "outputs": [],
   "source": [
    "airbnb.drop(index = [2801,3170], inplace = True)"
   ]
  },
  {
   "cell_type": "code",
   "execution_count": null,
   "outputs": [],
   "source": [
    "airbnb.dropna(inplace = True)"
   ],
   "metadata": {
    "collapsed": false,
    "pycharm": {
     "name": "#%%\n"
    }
   }
  },
  {
   "cell_type": "code",
   "execution_count": null,
   "outputs": [],
   "source": [
    "airbnb.zipcode = airbnb.zipcode.astype(\"int\")"
   ],
   "metadata": {
    "collapsed": false,
    "pycharm": {
     "name": "#%%\n"
    }
   }
  },
  {
   "cell_type": "code",
   "execution_count": null,
   "outputs": [],
   "source": [
    "airbnb.neighbourhood.unique()"
   ],
   "metadata": {
    "collapsed": false,
    "pycharm": {
     "name": "#%%\n"
    }
   }
  },
  {
   "cell_type": "code",
   "execution_count": null,
   "outputs": [],
   "source": [
    "airbnb.price.describe()"
   ],
   "metadata": {
    "collapsed": false,
    "pycharm": {
     "name": "#%%\n"
    }
   }
  },
  {
   "cell_type": "code",
   "execution_count": null,
   "outputs": [],
   "source": [
    "airbnb.loc[airbnb.price == 0]\n",
    "airbnb.drop(index = [2801,3170], inplace = True)"
   ],
   "metadata": {
    "collapsed": false,
    "pycharm": {
     "name": "#%%\n"
    }
   }
  },
  {
   "cell_type": "code",
   "execution_count": 3,
   "metadata": {},
   "outputs": [],
   "source": [
    "airbnb.dropna(inplace = True)"
   ]
  },
  {
   "cell_type": "code",
   "execution_count": 4,
   "metadata": {},
   "outputs": [],
   "source": [
    "airbnb.zipcode = airbnb.zipcode.astype(\"int\")"
   ]
  },
  {
   "cell_type": "code",
   "execution_count": 5,
   "metadata": {},
   "outputs": [
    {
     "data": {
      "text/plain": [
       "array(['Highland Park', 'Arbor Heights', 'Wallingford', 'Georgetown',\n",
       "       'Fairmount Park', 'Whittier Heights', 'Loyal Heights', 'Eastlake',\n",
       "       'Alki', 'South Delridge', 'Fremont', 'Atlantic', 'Broadview',\n",
       "       'Green Lake', 'North Queen Anne', 'Portage Bay',\n",
       "       'Lower Queen Anne', 'Phinney Ridge', 'Harrison/Denny-Blaine',\n",
       "       'Crown Hill', 'Maple Leaf', 'East Queen Anne', 'Lawton Park',\n",
       "       'Pioneer Square', 'Mid-Beacon Hill', 'West Queen Anne',\n",
       "       'North Beacon Hill', 'Mount Baker', 'Belltown', 'First Hill',\n",
       "       'Ravenna', 'Broadway', 'Stevens', 'West Woodland', 'North Admiral',\n",
       "       'Greenwood', 'International District', 'Haller Lake',\n",
       "       'Madison Park', 'Fauntleroy', 'Wedgwood', 'Cedar Park',\n",
       "       'University District', 'Columbia City', 'Madrona', 'Mann',\n",
       "       'Matthews Beach', 'Genesee', 'Central Business District', 'Minor',\n",
       "       'Leschi', 'Briarcliff', 'Sunset Hill', 'North Delridge', 'Bryant',\n",
       "       'Adams', 'North Beach/Blue Ridge', 'Seward Park', 'Pike-Market',\n",
       "       'High Point', 'Yesler Terrace', 'Bitter Lake', 'Brighton',\n",
       "       'Interbay', 'View Ridge', 'Windermere', 'Harbor Island', 'Dunlap',\n",
       "       'Rainier Beach', 'Seaview', 'Victory Heights',\n",
       "       'Southeast Magnolia', 'Olympic Hills', 'Roosevelt', 'Laurelhurst',\n",
       "       'Gatewood', 'North College Park', 'Riverview', 'Meadowbrook',\n",
       "       'Pinehurst', 'Montlake', 'Rainier View', 'South Beacon Hill',\n",
       "       'Westlake', 'Industrial District', 'South Park',\n",
       "       'South Lake Union', 'Roxhill', 'Holly Park', 'Sand Point'],\n",
       "      dtype=object)"
      ]
     },
     "execution_count": 5,
     "metadata": {},
     "output_type": "execute_result"
    }
   ],
   "source": [
    "airbnb.neighbourhood.unique()"
   ]
  },
  {
   "cell_type": "code",
   "execution_count": 6,
   "metadata": {},
   "outputs": [
    {
     "data": {
      "text/plain": [
       "count    5320.000000\n",
       "mean      196.246241\n",
       "std       152.236341\n",
       "min         0.000000\n",
       "25%       110.000000\n",
       "50%       157.500000\n",
       "75%       239.000000\n",
       "max      3750.000000\n",
       "Name: price, dtype: float64"
      ]
     },
     "execution_count": 6,
     "metadata": {},
     "output_type": "execute_result"
    }
   ],
   "source": [
    "airbnb.price.describe()"
   ]
  },
  {
   "cell_type": "code",
   "execution_count": 7,
   "metadata": {},
   "outputs": [],
   "source": [
    "airbnb.loc[airbnb.price == 0]\n",
    "airbnb.drop(index = [2801,3170], inplace = True)"
   ]
  }
 ],
 "metadata": {
  "kernelspec": {
   "display_name": "Python 3",
   "language": "python",
   "name": "python3"
  },
  "language_info": {
   "codemirror_mode": {
    "name": "ipython",
    "version": 3
   },
   "file_extension": ".py",
   "mimetype": "text/x-python",
   "name": "python",
   "nbconvert_exporter": "python",
   "pygments_lexer": "ipython3",
   "version": "3.8.5"
  }
 },
 "nbformat": 4,
 "nbformat_minor": 4
}