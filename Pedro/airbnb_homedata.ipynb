{
 "cells": [
  {
   "cell_type": "code",
   "execution_count": 1,
   "metadata": {
    "collapsed": false,
    "jupyter": {
     "outputs_hidden": false
    },
    "pycharm": {
     "name": "#%%\n"
    }
   },
   "outputs": [],
   "source": [
    "import pandas as pd"
   ]
  },
  {
   "cell_type": "code",
   "execution_count": 2,
   "metadata": {
    "collapsed": false,
    "jupyter": {
     "outputs_hidden": false
    },
    "pycharm": {
     "name": "#%%\n"
    }
   },
   "outputs": [],
   "source": [
    "airbnb = pd.read_excel('..\\\\data\\\\airbnb_data_cleaned.xlsx', index_col = 'Unnamed: 0')"
   ]
  },
  {
   "cell_type": "code",
   "execution_count": 3,
   "metadata": {},
   "outputs": [],
   "source": [
    "airbnb.dropna(inplace = True)"
   ]
  },
  {
   "cell_type": "code",
   "execution_count": 4,
   "metadata": {},
   "outputs": [],
   "source": [
    "airbnb.zipcode = airbnb.zipcode.astype(\"int\")"
   ]
  },
  {
   "cell_type": "code",
   "execution_count": 5,
   "metadata": {},
   "outputs": [
    {
     "data": {
      "text/plain": [
       "array(['Highland Park', 'Arbor Heights', 'Wallingford', 'Georgetown',\n",
       "       'Fairmount Park', 'Whittier Heights', 'Loyal Heights', 'Eastlake',\n",
       "       'Alki', 'South Delridge', 'Fremont', 'Atlantic', 'Broadview',\n",
       "       'Green Lake', 'North Queen Anne', 'Portage Bay',\n",
       "       'Lower Queen Anne', 'Phinney Ridge', 'Harrison/Denny-Blaine',\n",
       "       'Crown Hill', 'Maple Leaf', 'East Queen Anne', 'Lawton Park',\n",
       "       'Pioneer Square', 'Mid-Beacon Hill', 'West Queen Anne',\n",
       "       'North Beacon Hill', 'Mount Baker', 'Belltown', 'First Hill',\n",
       "       'Ravenna', 'Broadway', 'Stevens', 'West Woodland', 'North Admiral',\n",
       "       'Greenwood', 'International District', 'Haller Lake',\n",
       "       'Madison Park', 'Fauntleroy', 'Wedgwood', 'Cedar Park',\n",
       "       'University District', 'Columbia City', 'Madrona', 'Mann',\n",
       "       'Matthews Beach', 'Genesee', 'Central Business District', 'Minor',\n",
       "       'Leschi', 'Briarcliff', 'Sunset Hill', 'North Delridge', 'Bryant',\n",
       "       'Adams', 'North Beach/Blue Ridge', 'Seward Park', 'Pike-Market',\n",
       "       'High Point', 'Yesler Terrace', 'Bitter Lake', 'Brighton',\n",
       "       'Interbay', 'View Ridge', 'Windermere', 'Harbor Island', 'Dunlap',\n",
       "       'Rainier Beach', 'Seaview', 'Victory Heights',\n",
       "       'Southeast Magnolia', 'Olympic Hills', 'Roosevelt', 'Laurelhurst',\n",
       "       'Gatewood', 'North College Park', 'Riverview', 'Meadowbrook',\n",
       "       'Pinehurst', 'Montlake', 'Rainier View', 'South Beacon Hill',\n",
       "       'Westlake', 'Industrial District', 'South Park',\n",
       "       'South Lake Union', 'Roxhill', 'Holly Park', 'Sand Point'],\n",
       "      dtype=object)"
      ]
     },
     "execution_count": 5,
     "metadata": {},
     "output_type": "execute_result"
    }
   ],
   "source": [
    "airbnb.neighbourhood.unique()"
   ]
  },
  {
   "cell_type": "code",
   "execution_count": 6,
   "metadata": {},
   "outputs": [
    {
     "data": {
      "text/plain": [
       "count    5320.000000\n",
       "mean      196.246241\n",
       "std       152.236341\n",
       "min         0.000000\n",
       "25%       110.000000\n",
       "50%       157.500000\n",
       "75%       239.000000\n",
       "max      3750.000000\n",
       "Name: price, dtype: float64"
      ]
     },
     "execution_count": 6,
     "metadata": {},
     "output_type": "execute_result"
    }
   ],
   "source": [
    "airbnb.price.describe()"
   ]
  },
  {
   "cell_type": "code",
   "execution_count": 7,
   "metadata": {},
   "outputs": [],
   "source": [
    "airbnb.loc[airbnb.price == 0]\n",
    "airbnb.drop(index = [2801,3170], inplace = True)"
   ]
  },
  {
   "cell_type": "markdown",
   "metadata": {},
   "source": [
    "import googlemaps \n",
    "# Requires API key \n",
    "gmaps = googlemaps.Client(key='Your_API_key')  \n",
    "# Requires cities name \n",
    "distance = gmaps.distance_matrix('Delhi','Mumbai')['rows'][0]['elements'][0]\n",
    "\n",
    "print(distance)\n",
    "{u'distance': {u'text': u'1,418 km', u'value': 1417632},\n",
    " u'duration': {u'text': u'1 day 0 hours', u'value': 87010},\n",
    " u'status': u'OK'}"
   ]
  },
  {
   "cell_type": "markdown",
   "metadata": {},
   "source": [
    " Requires geo-coordinates(latitude/longitude) of origin and destination\n",
    "origin_latitude = 12.9551779\n",
    "origin_longitude = 77.6910334\n",
    "destination_latitude = 28.505278\n",
    "destination_longitude = 77.327774\n",
    "distance = gmaps.distance_matrix([str(origin_latitude) + \" \" + str(origin_longitude)], [str(destination_latitude) + \" \" + str(destination_longitude)], mode='walking')['rows'][0]['elements'][0]\n",
    "\n",
    "print(distance)\n",
    "{u'distance': {u'text': u'2,014 km', u'value': 2013656},\n",
    " u'duration': {u'text': u'16 days 23 hours', u'value': 1464529},\n",
    " u'status': u'OK'}"
   ]
  }
 ],
 "metadata": {
  "kernelspec": {
   "display_name": "Python 3 (ipykernel)",
   "language": "python",
   "name": "python3"
  },
  "language_info": {
   "codemirror_mode": {
    "name": "ipython",
    "version": 3
   },
   "file_extension": ".py",
   "mimetype": "text/x-python",
   "name": "python",
   "nbconvert_exporter": "python",
   "pygments_lexer": "ipython3",
   "version": "3.8.12"
  }
 },
 "nbformat": 4,
 "nbformat_minor": 4
}
