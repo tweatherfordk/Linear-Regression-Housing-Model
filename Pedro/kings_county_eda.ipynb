{
 "cells": [
  {
   "cell_type": "markdown",
   "source": [
    "This file will be used for some explinitory data analysis of the kings county data. This data set was provided to students of the flat iron school in order to implement a linear regression model."
   ],
   "metadata": {
    "collapsed": false,
    "pycharm": {
     "name": "#%% md\n"
    }
   }
  },
  {
   "cell_type": "code",
   "execution_count": 91,
   "outputs": [],
   "source": [
    "import pandas as pd\n",
    "import matplotlib.pyplot as plt\n",
    "import seaborn as sns\n",
    "# necessary imports for eda will add as needed"
   ],
   "metadata": {
    "collapsed": false,
    "pycharm": {
     "name": "#%%\n"
    }
   }
  },
  {
   "cell_type": "code",
   "execution_count": 92,
   "outputs": [
    {
     "data": {
      "text/plain": "           id        date     price  bedrooms  bathrooms  sqft_living  \\\n0  7129300520  10/13/2014  221900.0         3       1.00         1180   \n1  6414100192   12/9/2014  538000.0         3       2.25         2570   \n2  5631500400   2/25/2015  180000.0         2       1.00          770   \n3  2487200875   12/9/2014  604000.0         4       3.00         1960   \n4  1954400510   2/18/2015  510000.0         3       2.00         1680   \n\n   sqft_lot  floors waterfront  view  ...          grade sqft_above  \\\n0      5650     1.0        NaN  NONE  ...      7 Average       1180   \n1      7242     2.0         NO  NONE  ...      7 Average       2170   \n2     10000     1.0         NO  NONE  ...  6 Low Average        770   \n3      5000     1.0         NO  NONE  ...      7 Average       1050   \n4      8080     1.0         NO  NONE  ...         8 Good       1680   \n\n   sqft_basement yr_built  yr_renovated  zipcode      lat     long  \\\n0            0.0     1955           0.0    98178  47.5112 -122.257   \n1          400.0     1951        1991.0    98125  47.7210 -122.319   \n2            0.0     1933           NaN    98028  47.7379 -122.233   \n3          910.0     1965           0.0    98136  47.5208 -122.393   \n4            0.0     1987           0.0    98074  47.6168 -122.045   \n\n   sqft_living15  sqft_lot15  \n0           1340        5650  \n1           1690        7639  \n2           2720        8062  \n3           1360        5000  \n4           1800        7503  \n\n[5 rows x 21 columns]",
      "text/html": "<div>\n<style scoped>\n    .dataframe tbody tr th:only-of-type {\n        vertical-align: middle;\n    }\n\n    .dataframe tbody tr th {\n        vertical-align: top;\n    }\n\n    .dataframe thead th {\n        text-align: right;\n    }\n</style>\n<table border=\"1\" class=\"dataframe\">\n  <thead>\n    <tr style=\"text-align: right;\">\n      <th></th>\n      <th>id</th>\n      <th>date</th>\n      <th>price</th>\n      <th>bedrooms</th>\n      <th>bathrooms</th>\n      <th>sqft_living</th>\n      <th>sqft_lot</th>\n      <th>floors</th>\n      <th>waterfront</th>\n      <th>view</th>\n      <th>...</th>\n      <th>grade</th>\n      <th>sqft_above</th>\n      <th>sqft_basement</th>\n      <th>yr_built</th>\n      <th>yr_renovated</th>\n      <th>zipcode</th>\n      <th>lat</th>\n      <th>long</th>\n      <th>sqft_living15</th>\n      <th>sqft_lot15</th>\n    </tr>\n  </thead>\n  <tbody>\n    <tr>\n      <th>0</th>\n      <td>7129300520</td>\n      <td>10/13/2014</td>\n      <td>221900.0</td>\n      <td>3</td>\n      <td>1.00</td>\n      <td>1180</td>\n      <td>5650</td>\n      <td>1.0</td>\n      <td>NaN</td>\n      <td>NONE</td>\n      <td>...</td>\n      <td>7 Average</td>\n      <td>1180</td>\n      <td>0.0</td>\n      <td>1955</td>\n      <td>0.0</td>\n      <td>98178</td>\n      <td>47.5112</td>\n      <td>-122.257</td>\n      <td>1340</td>\n      <td>5650</td>\n    </tr>\n    <tr>\n      <th>1</th>\n      <td>6414100192</td>\n      <td>12/9/2014</td>\n      <td>538000.0</td>\n      <td>3</td>\n      <td>2.25</td>\n      <td>2570</td>\n      <td>7242</td>\n      <td>2.0</td>\n      <td>NO</td>\n      <td>NONE</td>\n      <td>...</td>\n      <td>7 Average</td>\n      <td>2170</td>\n      <td>400.0</td>\n      <td>1951</td>\n      <td>1991.0</td>\n      <td>98125</td>\n      <td>47.7210</td>\n      <td>-122.319</td>\n      <td>1690</td>\n      <td>7639</td>\n    </tr>\n    <tr>\n      <th>2</th>\n      <td>5631500400</td>\n      <td>2/25/2015</td>\n      <td>180000.0</td>\n      <td>2</td>\n      <td>1.00</td>\n      <td>770</td>\n      <td>10000</td>\n      <td>1.0</td>\n      <td>NO</td>\n      <td>NONE</td>\n      <td>...</td>\n      <td>6 Low Average</td>\n      <td>770</td>\n      <td>0.0</td>\n      <td>1933</td>\n      <td>NaN</td>\n      <td>98028</td>\n      <td>47.7379</td>\n      <td>-122.233</td>\n      <td>2720</td>\n      <td>8062</td>\n    </tr>\n    <tr>\n      <th>3</th>\n      <td>2487200875</td>\n      <td>12/9/2014</td>\n      <td>604000.0</td>\n      <td>4</td>\n      <td>3.00</td>\n      <td>1960</td>\n      <td>5000</td>\n      <td>1.0</td>\n      <td>NO</td>\n      <td>NONE</td>\n      <td>...</td>\n      <td>7 Average</td>\n      <td>1050</td>\n      <td>910.0</td>\n      <td>1965</td>\n      <td>0.0</td>\n      <td>98136</td>\n      <td>47.5208</td>\n      <td>-122.393</td>\n      <td>1360</td>\n      <td>5000</td>\n    </tr>\n    <tr>\n      <th>4</th>\n      <td>1954400510</td>\n      <td>2/18/2015</td>\n      <td>510000.0</td>\n      <td>3</td>\n      <td>2.00</td>\n      <td>1680</td>\n      <td>8080</td>\n      <td>1.0</td>\n      <td>NO</td>\n      <td>NONE</td>\n      <td>...</td>\n      <td>8 Good</td>\n      <td>1680</td>\n      <td>0.0</td>\n      <td>1987</td>\n      <td>0.0</td>\n      <td>98074</td>\n      <td>47.6168</td>\n      <td>-122.045</td>\n      <td>1800</td>\n      <td>7503</td>\n    </tr>\n  </tbody>\n</table>\n<p>5 rows × 21 columns</p>\n</div>"
     },
     "execution_count": 92,
     "metadata": {},
     "output_type": "execute_result"
    }
   ],
   "source": [
    "df = pd.read_csv(\"..\\data\\kc_house_data.csv\")\n",
    "df.head() # inspecting our dataframe and seeing our columns and some basic values"
   ],
   "metadata": {
    "collapsed": false,
    "pycharm": {
     "name": "#%%\n"
    }
   }
  },
  {
   "cell_type": "markdown",
   "source": [
    "Notice that 'waterfront' and 'yr_renovated' appear to be the only columns with null values, however we shall further inspect these columns and see if this is in fact the case.\n"
   ],
   "metadata": {
    "collapsed": false,
    "pycharm": {
     "name": "#%% md\n"
    }
   }
  },
  {
   "cell_type": "code",
   "execution_count": 93,
   "outputs": [
    {
     "name": "stdout",
     "output_type": "stream",
     "text": [
      "<class 'pandas.core.frame.DataFrame'>\n",
      "RangeIndex: 21597 entries, 0 to 21596\n",
      "Data columns (total 21 columns):\n",
      " #   Column         Non-Null Count  Dtype  \n",
      "---  ------         --------------  -----  \n",
      " 0   id             21597 non-null  int64  \n",
      " 1   date           21597 non-null  object \n",
      " 2   price          21597 non-null  float64\n",
      " 3   bedrooms       21597 non-null  int64  \n",
      " 4   bathrooms      21597 non-null  float64\n",
      " 5   sqft_living    21597 non-null  int64  \n",
      " 6   sqft_lot       21597 non-null  int64  \n",
      " 7   floors         21597 non-null  float64\n",
      " 8   waterfront     19221 non-null  object \n",
      " 9   view           21534 non-null  object \n",
      " 10  condition      21597 non-null  object \n",
      " 11  grade          21597 non-null  object \n",
      " 12  sqft_above     21597 non-null  int64  \n",
      " 13  sqft_basement  21597 non-null  object \n",
      " 14  yr_built       21597 non-null  int64  \n",
      " 15  yr_renovated   17755 non-null  float64\n",
      " 16  zipcode        21597 non-null  int64  \n",
      " 17  lat            21597 non-null  float64\n",
      " 18  long           21597 non-null  float64\n",
      " 19  sqft_living15  21597 non-null  int64  \n",
      " 20  sqft_lot15     21597 non-null  int64  \n",
      "dtypes: float64(6), int64(9), object(6)\n",
      "memory usage: 3.5+ MB\n"
     ]
    }
   ],
   "source": [
    "df.info() # notice that 'waterfront' and 'yr_renovated' and \"view\" appear to be the only columns with null values"
   ],
   "metadata": {
    "collapsed": false,
    "pycharm": {
     "name": "#%%\n"
    }
   }
  },
  {
   "cell_type": "code",
   "execution_count": 94,
   "outputs": [
    {
     "data": {
      "text/plain": "             date  yr_built  yr_renovated waterfront  view  condition  \\\n0      10/13/2014      1955           0.0        NaN  NONE    Average   \n1       12/9/2014      1951        1991.0         NO  NONE    Average   \n2       2/25/2015      1933           NaN         NO  NONE    Average   \n3       12/9/2014      1965           0.0         NO  NONE  Very Good   \n4       2/18/2015      1987           0.0         NO  NONE    Average   \n...           ...       ...           ...        ...   ...        ...   \n21592   5/21/2014      2009           0.0         NO  NONE    Average   \n21593   2/23/2015      2014           0.0         NO  NONE    Average   \n21594   6/23/2014      2009           0.0         NO  NONE    Average   \n21595   1/16/2015      2004           0.0        NaN  NONE    Average   \n21596  10/15/2014      2008           0.0         NO  NONE    Average   \n\n               grade sqft_basement  \n0          7 Average           0.0  \n1          7 Average         400.0  \n2      6 Low Average           0.0  \n3          7 Average         910.0  \n4             8 Good           0.0  \n...              ...           ...  \n21592         8 Good           0.0  \n21593         8 Good           0.0  \n21594      7 Average           0.0  \n21595         8 Good           0.0  \n21596      7 Average           0.0  \n\n[21597 rows x 8 columns]",
      "text/html": "<div>\n<style scoped>\n    .dataframe tbody tr th:only-of-type {\n        vertical-align: middle;\n    }\n\n    .dataframe tbody tr th {\n        vertical-align: top;\n    }\n\n    .dataframe thead th {\n        text-align: right;\n    }\n</style>\n<table border=\"1\" class=\"dataframe\">\n  <thead>\n    <tr style=\"text-align: right;\">\n      <th></th>\n      <th>date</th>\n      <th>yr_built</th>\n      <th>yr_renovated</th>\n      <th>waterfront</th>\n      <th>view</th>\n      <th>condition</th>\n      <th>grade</th>\n      <th>sqft_basement</th>\n    </tr>\n  </thead>\n  <tbody>\n    <tr>\n      <th>0</th>\n      <td>10/13/2014</td>\n      <td>1955</td>\n      <td>0.0</td>\n      <td>NaN</td>\n      <td>NONE</td>\n      <td>Average</td>\n      <td>7 Average</td>\n      <td>0.0</td>\n    </tr>\n    <tr>\n      <th>1</th>\n      <td>12/9/2014</td>\n      <td>1951</td>\n      <td>1991.0</td>\n      <td>NO</td>\n      <td>NONE</td>\n      <td>Average</td>\n      <td>7 Average</td>\n      <td>400.0</td>\n    </tr>\n    <tr>\n      <th>2</th>\n      <td>2/25/2015</td>\n      <td>1933</td>\n      <td>NaN</td>\n      <td>NO</td>\n      <td>NONE</td>\n      <td>Average</td>\n      <td>6 Low Average</td>\n      <td>0.0</td>\n    </tr>\n    <tr>\n      <th>3</th>\n      <td>12/9/2014</td>\n      <td>1965</td>\n      <td>0.0</td>\n      <td>NO</td>\n      <td>NONE</td>\n      <td>Very Good</td>\n      <td>7 Average</td>\n      <td>910.0</td>\n    </tr>\n    <tr>\n      <th>4</th>\n      <td>2/18/2015</td>\n      <td>1987</td>\n      <td>0.0</td>\n      <td>NO</td>\n      <td>NONE</td>\n      <td>Average</td>\n      <td>8 Good</td>\n      <td>0.0</td>\n    </tr>\n    <tr>\n      <th>...</th>\n      <td>...</td>\n      <td>...</td>\n      <td>...</td>\n      <td>...</td>\n      <td>...</td>\n      <td>...</td>\n      <td>...</td>\n      <td>...</td>\n    </tr>\n    <tr>\n      <th>21592</th>\n      <td>5/21/2014</td>\n      <td>2009</td>\n      <td>0.0</td>\n      <td>NO</td>\n      <td>NONE</td>\n      <td>Average</td>\n      <td>8 Good</td>\n      <td>0.0</td>\n    </tr>\n    <tr>\n      <th>21593</th>\n      <td>2/23/2015</td>\n      <td>2014</td>\n      <td>0.0</td>\n      <td>NO</td>\n      <td>NONE</td>\n      <td>Average</td>\n      <td>8 Good</td>\n      <td>0.0</td>\n    </tr>\n    <tr>\n      <th>21594</th>\n      <td>6/23/2014</td>\n      <td>2009</td>\n      <td>0.0</td>\n      <td>NO</td>\n      <td>NONE</td>\n      <td>Average</td>\n      <td>7 Average</td>\n      <td>0.0</td>\n    </tr>\n    <tr>\n      <th>21595</th>\n      <td>1/16/2015</td>\n      <td>2004</td>\n      <td>0.0</td>\n      <td>NaN</td>\n      <td>NONE</td>\n      <td>Average</td>\n      <td>8 Good</td>\n      <td>0.0</td>\n    </tr>\n    <tr>\n      <th>21596</th>\n      <td>10/15/2014</td>\n      <td>2008</td>\n      <td>0.0</td>\n      <td>NO</td>\n      <td>NONE</td>\n      <td>Average</td>\n      <td>7 Average</td>\n      <td>0.0</td>\n    </tr>\n  </tbody>\n</table>\n<p>21597 rows × 8 columns</p>\n</div>"
     },
     "execution_count": 94,
     "metadata": {},
     "output_type": "execute_result"
    }
   ],
   "source": [
    "df[[\"date\", \"yr_built\", \"yr_renovated\", \"waterfront\", \"view\", \"condition\", \"grade\", \"sqft_basement\"]] # a subset of our dataframe with only the columns that need cleaning"
   ],
   "metadata": {
    "collapsed": false,
    "pycharm": {
     "name": "#%%\n"
    }
   }
  },
  {
   "cell_type": "code",
   "execution_count": 95,
   "outputs": [
    {
     "data": {
      "text/plain": "(Timestamp('2014-05-02 00:00:00'), Timestamp('2015-05-27 00:00:00'))"
     },
     "execution_count": 95,
     "metadata": {},
     "output_type": "execute_result"
    }
   ],
   "source": [
    "df[\"date\"] = pd.to_datetime(df[\"date\"]) #changing date column from string to datetime format\n",
    "\n",
    "df[\"date\"].min(), df[\"date\"].max() #notice our dataset only includes data from one year"
   ],
   "metadata": {
    "collapsed": false,
    "pycharm": {
     "name": "#%%\n"
    }
   }
  },
  {
   "cell_type": "code",
   "execution_count": 101,
   "outputs": [
    {
     "data": {
      "text/plain": "0"
     },
     "execution_count": 101,
     "metadata": {},
     "output_type": "execute_result"
    }
   ],
   "source": [
    "df.yr_renovated.fillna(0.0, inplace= True) # replacing NaN values with 0.0 in yr_renovated column\n",
    "\n",
    "df.yr_renovated.isna().sum() # checking to see if there are any NaN values"
   ],
   "metadata": {
    "collapsed": false,
    "pycharm": {
     "name": "#%%\n"
    }
   }
  },
  {
   "cell_type": "code",
   "execution_count": 108,
   "outputs": [
    {
     "data": {
      "text/plain": "count     21597\nunique      304\ntop         0.0\nfreq      12826\nName: sqft_basement, dtype: object"
     },
     "execution_count": 108,
     "metadata": {},
     "output_type": "execute_result"
    }
   ],
   "source": [
    "df[\"sqft_basement\"].replace(to_replace= \"?\", value = 0.0, inplace= True ) # replacing ? with 0.0 in our sqft_basement column\n",
    "\n",
    "df[\"sqft_basement\"].describe()"
   ],
   "metadata": {
    "collapsed": false,
    "pycharm": {
     "name": "#%%\n"
    }
   }
  },
  {
   "cell_type": "code",
   "execution_count": 118,
   "outputs": [
    {
     "data": {
      "text/plain": "count     21597\nunique        2\ntop          NO\nfreq      21451\nName: waterfront, dtype: object"
     },
     "execution_count": 118,
     "metadata": {},
     "output_type": "execute_result"
    }
   ],
   "source": [
    "df.waterfront.fillna(\"NO\", inplace= True) #filling in NaN values with NO for waterfront\n",
    "df.waterfront.eq('YES').mul(1) # now converting YES and NO to 1 and 0 respectively, this will help with our model fitting later\n",
    "df.waterfront.describe()"
   ],
   "metadata": {
    "collapsed": false,
    "pycharm": {
     "name": "#%%\n"
    }
   }
  },
  {
   "cell_type": "code",
   "execution_count": 128,
   "outputs": [],
   "source": [
    "df.view.unique()\n",
    "df.view.fillna(\"NONE\", inplace = True)"
   ],
   "metadata": {
    "collapsed": false,
    "pycharm": {
     "name": "#%%\n"
    }
   }
  },
  {
   "cell_type": "markdown",
   "source": [
    "Now it is time to move away from filling in our null values and correcting our data types and to begin dealing with our ordinal columns."
   ],
   "metadata": {
    "collapsed": false,
    "pycharm": {
     "name": "#%% md\n"
    }
   }
  },
  {
   "cell_type": "code",
   "execution_count": 129,
   "outputs": [
    {
     "data": {
      "text/plain": "       view  condition          grade\n0      NONE    Average      7 Average\n1      NONE    Average      7 Average\n2      NONE    Average  6 Low Average\n3      NONE  Very Good      7 Average\n4      NONE    Average         8 Good\n...     ...        ...            ...\n21592  NONE    Average         8 Good\n21593  NONE    Average         8 Good\n21594  NONE    Average      7 Average\n21595  NONE    Average         8 Good\n21596  NONE    Average      7 Average\n\n[21597 rows x 3 columns]",
      "text/html": "<div>\n<style scoped>\n    .dataframe tbody tr th:only-of-type {\n        vertical-align: middle;\n    }\n\n    .dataframe tbody tr th {\n        vertical-align: top;\n    }\n\n    .dataframe thead th {\n        text-align: right;\n    }\n</style>\n<table border=\"1\" class=\"dataframe\">\n  <thead>\n    <tr style=\"text-align: right;\">\n      <th></th>\n      <th>view</th>\n      <th>condition</th>\n      <th>grade</th>\n    </tr>\n  </thead>\n  <tbody>\n    <tr>\n      <th>0</th>\n      <td>NONE</td>\n      <td>Average</td>\n      <td>7 Average</td>\n    </tr>\n    <tr>\n      <th>1</th>\n      <td>NONE</td>\n      <td>Average</td>\n      <td>7 Average</td>\n    </tr>\n    <tr>\n      <th>2</th>\n      <td>NONE</td>\n      <td>Average</td>\n      <td>6 Low Average</td>\n    </tr>\n    <tr>\n      <th>3</th>\n      <td>NONE</td>\n      <td>Very Good</td>\n      <td>7 Average</td>\n    </tr>\n    <tr>\n      <th>4</th>\n      <td>NONE</td>\n      <td>Average</td>\n      <td>8 Good</td>\n    </tr>\n    <tr>\n      <th>...</th>\n      <td>...</td>\n      <td>...</td>\n      <td>...</td>\n    </tr>\n    <tr>\n      <th>21592</th>\n      <td>NONE</td>\n      <td>Average</td>\n      <td>8 Good</td>\n    </tr>\n    <tr>\n      <th>21593</th>\n      <td>NONE</td>\n      <td>Average</td>\n      <td>8 Good</td>\n    </tr>\n    <tr>\n      <th>21594</th>\n      <td>NONE</td>\n      <td>Average</td>\n      <td>7 Average</td>\n    </tr>\n    <tr>\n      <th>21595</th>\n      <td>NONE</td>\n      <td>Average</td>\n      <td>8 Good</td>\n    </tr>\n    <tr>\n      <th>21596</th>\n      <td>NONE</td>\n      <td>Average</td>\n      <td>7 Average</td>\n    </tr>\n  </tbody>\n</table>\n<p>21597 rows × 3 columns</p>\n</div>"
     },
     "execution_count": 129,
     "metadata": {},
     "output_type": "execute_result"
    }
   ],
   "source": [
    "from sklearn.preprocessing import OrdinalEncoder\n",
    "\n",
    "ord_cat_selector = ['view', 'condition', 'grade'] # these three columns all have ordinal data and must be dealt with accordingly\n",
    "\n",
    "cat_subset = df[ord_cat_selector]\n",
    "\n",
    "cat_subset"
   ],
   "metadata": {
    "collapsed": false,
    "pycharm": {
     "name": "#%%\n"
    }
   }
  },
  {
   "cell_type": "code",
   "execution_count": 132,
   "outputs": [
    {
     "data": {
      "text/plain": "array(['NONE', 'GOOD', 'EXCELLENT', 'AVERAGE', 'FAIR'], dtype=object)"
     },
     "execution_count": 132,
     "metadata": {},
     "output_type": "execute_result"
    }
   ],
   "source": [
    "cat_subset['view'].unique()"
   ],
   "metadata": {
    "collapsed": false,
    "pycharm": {
     "name": "#%%\n"
    }
   }
  }
 ],
 "metadata": {
  "kernelspec": {
   "display_name": "Python 3",
   "language": "python",
   "name": "python3"
  },
  "language_info": {
   "codemirror_mode": {
    "name": "ipython",
    "version": 2
   },
   "file_extension": ".py",
   "mimetype": "text/x-python",
   "name": "python",
   "nbconvert_exporter": "python",
   "pygments_lexer": "ipython2",
   "version": "2.7.6"
  }
 },
 "nbformat": 4,
 "nbformat_minor": 0
}